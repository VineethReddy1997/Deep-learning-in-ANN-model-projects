{
 "cells": [
  {
   "cell_type": "markdown",
   "id": "0df8856c",
   "metadata": {},
   "source": [
    "# ARTIFICIAL NEURAL NETWORK"
   ]
  },
  {
   "cell_type": "code",
   "execution_count": 1,
   "id": "bde118d4",
   "metadata": {},
   "outputs": [],
   "source": [
    "import pandas as pd\n",
    "import numpy as np"
   ]
  },
  {
   "cell_type": "code",
   "execution_count": 2,
   "id": "3617765e",
   "metadata": {},
   "outputs": [],
   "source": [
    "data = pd.read_csv('heartfailure.csv.csv')"
   ]
  },
  {
   "cell_type": "code",
   "execution_count": 3,
   "id": "27af4cb1",
   "metadata": {},
   "outputs": [
    {
     "data": {
      "text/html": [
       "<div>\n",
       "<style scoped>\n",
       "    .dataframe tbody tr th:only-of-type {\n",
       "        vertical-align: middle;\n",
       "    }\n",
       "\n",
       "    .dataframe tbody tr th {\n",
       "        vertical-align: top;\n",
       "    }\n",
       "\n",
       "    .dataframe thead th {\n",
       "        text-align: right;\n",
       "    }\n",
       "</style>\n",
       "<table border=\"1\" class=\"dataframe\">\n",
       "  <thead>\n",
       "    <tr style=\"text-align: right;\">\n",
       "      <th></th>\n",
       "      <th>age</th>\n",
       "      <th>anaemia</th>\n",
       "      <th>creatinine_phosphokinase</th>\n",
       "      <th>diabetes</th>\n",
       "      <th>ejection_fraction</th>\n",
       "      <th>high_blood_pressure</th>\n",
       "      <th>platelets</th>\n",
       "      <th>serum_creatinine</th>\n",
       "      <th>serum_sodium</th>\n",
       "      <th>sex</th>\n",
       "      <th>smoking</th>\n",
       "      <th>time</th>\n",
       "      <th>DEATH_EVENT</th>\n",
       "    </tr>\n",
       "  </thead>\n",
       "  <tbody>\n",
       "    <tr>\n",
       "      <th>0</th>\n",
       "      <td>75.0</td>\n",
       "      <td>0</td>\n",
       "      <td>582</td>\n",
       "      <td>0</td>\n",
       "      <td>20</td>\n",
       "      <td>1</td>\n",
       "      <td>265000.00</td>\n",
       "      <td>1.9</td>\n",
       "      <td>130</td>\n",
       "      <td>1</td>\n",
       "      <td>0</td>\n",
       "      <td>4</td>\n",
       "      <td>1</td>\n",
       "    </tr>\n",
       "    <tr>\n",
       "      <th>1</th>\n",
       "      <td>55.0</td>\n",
       "      <td>0</td>\n",
       "      <td>7861</td>\n",
       "      <td>0</td>\n",
       "      <td>38</td>\n",
       "      <td>0</td>\n",
       "      <td>263358.03</td>\n",
       "      <td>1.1</td>\n",
       "      <td>136</td>\n",
       "      <td>1</td>\n",
       "      <td>0</td>\n",
       "      <td>6</td>\n",
       "      <td>1</td>\n",
       "    </tr>\n",
       "    <tr>\n",
       "      <th>2</th>\n",
       "      <td>65.0</td>\n",
       "      <td>0</td>\n",
       "      <td>146</td>\n",
       "      <td>0</td>\n",
       "      <td>20</td>\n",
       "      <td>0</td>\n",
       "      <td>162000.00</td>\n",
       "      <td>1.3</td>\n",
       "      <td>129</td>\n",
       "      <td>1</td>\n",
       "      <td>1</td>\n",
       "      <td>7</td>\n",
       "      <td>1</td>\n",
       "    </tr>\n",
       "    <tr>\n",
       "      <th>3</th>\n",
       "      <td>50.0</td>\n",
       "      <td>1</td>\n",
       "      <td>111</td>\n",
       "      <td>0</td>\n",
       "      <td>20</td>\n",
       "      <td>0</td>\n",
       "      <td>210000.00</td>\n",
       "      <td>1.9</td>\n",
       "      <td>137</td>\n",
       "      <td>1</td>\n",
       "      <td>0</td>\n",
       "      <td>7</td>\n",
       "      <td>1</td>\n",
       "    </tr>\n",
       "    <tr>\n",
       "      <th>4</th>\n",
       "      <td>65.0</td>\n",
       "      <td>1</td>\n",
       "      <td>160</td>\n",
       "      <td>1</td>\n",
       "      <td>20</td>\n",
       "      <td>0</td>\n",
       "      <td>327000.00</td>\n",
       "      <td>2.7</td>\n",
       "      <td>116</td>\n",
       "      <td>0</td>\n",
       "      <td>0</td>\n",
       "      <td>8</td>\n",
       "      <td>1</td>\n",
       "    </tr>\n",
       "    <tr>\n",
       "      <th>...</th>\n",
       "      <td>...</td>\n",
       "      <td>...</td>\n",
       "      <td>...</td>\n",
       "      <td>...</td>\n",
       "      <td>...</td>\n",
       "      <td>...</td>\n",
       "      <td>...</td>\n",
       "      <td>...</td>\n",
       "      <td>...</td>\n",
       "      <td>...</td>\n",
       "      <td>...</td>\n",
       "      <td>...</td>\n",
       "      <td>...</td>\n",
       "    </tr>\n",
       "    <tr>\n",
       "      <th>294</th>\n",
       "      <td>62.0</td>\n",
       "      <td>0</td>\n",
       "      <td>61</td>\n",
       "      <td>1</td>\n",
       "      <td>38</td>\n",
       "      <td>1</td>\n",
       "      <td>155000.00</td>\n",
       "      <td>1.1</td>\n",
       "      <td>143</td>\n",
       "      <td>1</td>\n",
       "      <td>1</td>\n",
       "      <td>270</td>\n",
       "      <td>0</td>\n",
       "    </tr>\n",
       "    <tr>\n",
       "      <th>295</th>\n",
       "      <td>55.0</td>\n",
       "      <td>0</td>\n",
       "      <td>1820</td>\n",
       "      <td>0</td>\n",
       "      <td>38</td>\n",
       "      <td>0</td>\n",
       "      <td>270000.00</td>\n",
       "      <td>1.2</td>\n",
       "      <td>139</td>\n",
       "      <td>0</td>\n",
       "      <td>0</td>\n",
       "      <td>271</td>\n",
       "      <td>0</td>\n",
       "    </tr>\n",
       "    <tr>\n",
       "      <th>296</th>\n",
       "      <td>45.0</td>\n",
       "      <td>0</td>\n",
       "      <td>2060</td>\n",
       "      <td>1</td>\n",
       "      <td>60</td>\n",
       "      <td>0</td>\n",
       "      <td>742000.00</td>\n",
       "      <td>0.8</td>\n",
       "      <td>138</td>\n",
       "      <td>0</td>\n",
       "      <td>0</td>\n",
       "      <td>278</td>\n",
       "      <td>0</td>\n",
       "    </tr>\n",
       "    <tr>\n",
       "      <th>297</th>\n",
       "      <td>45.0</td>\n",
       "      <td>0</td>\n",
       "      <td>2413</td>\n",
       "      <td>0</td>\n",
       "      <td>38</td>\n",
       "      <td>0</td>\n",
       "      <td>140000.00</td>\n",
       "      <td>1.4</td>\n",
       "      <td>140</td>\n",
       "      <td>1</td>\n",
       "      <td>1</td>\n",
       "      <td>280</td>\n",
       "      <td>0</td>\n",
       "    </tr>\n",
       "    <tr>\n",
       "      <th>298</th>\n",
       "      <td>50.0</td>\n",
       "      <td>0</td>\n",
       "      <td>196</td>\n",
       "      <td>0</td>\n",
       "      <td>45</td>\n",
       "      <td>0</td>\n",
       "      <td>395000.00</td>\n",
       "      <td>1.6</td>\n",
       "      <td>136</td>\n",
       "      <td>1</td>\n",
       "      <td>1</td>\n",
       "      <td>285</td>\n",
       "      <td>0</td>\n",
       "    </tr>\n",
       "  </tbody>\n",
       "</table>\n",
       "<p>299 rows × 13 columns</p>\n",
       "</div>"
      ],
      "text/plain": [
       "      age  anaemia  creatinine_phosphokinase  diabetes  ejection_fraction  \\\n",
       "0    75.0        0                       582         0                 20   \n",
       "1    55.0        0                      7861         0                 38   \n",
       "2    65.0        0                       146         0                 20   \n",
       "3    50.0        1                       111         0                 20   \n",
       "4    65.0        1                       160         1                 20   \n",
       "..    ...      ...                       ...       ...                ...   \n",
       "294  62.0        0                        61         1                 38   \n",
       "295  55.0        0                      1820         0                 38   \n",
       "296  45.0        0                      2060         1                 60   \n",
       "297  45.0        0                      2413         0                 38   \n",
       "298  50.0        0                       196         0                 45   \n",
       "\n",
       "     high_blood_pressure  platelets  serum_creatinine  serum_sodium  sex  \\\n",
       "0                      1  265000.00               1.9           130    1   \n",
       "1                      0  263358.03               1.1           136    1   \n",
       "2                      0  162000.00               1.3           129    1   \n",
       "3                      0  210000.00               1.9           137    1   \n",
       "4                      0  327000.00               2.7           116    0   \n",
       "..                   ...        ...               ...           ...  ...   \n",
       "294                    1  155000.00               1.1           143    1   \n",
       "295                    0  270000.00               1.2           139    0   \n",
       "296                    0  742000.00               0.8           138    0   \n",
       "297                    0  140000.00               1.4           140    1   \n",
       "298                    0  395000.00               1.6           136    1   \n",
       "\n",
       "     smoking  time  DEATH_EVENT  \n",
       "0          0     4            1  \n",
       "1          0     6            1  \n",
       "2          1     7            1  \n",
       "3          0     7            1  \n",
       "4          0     8            1  \n",
       "..       ...   ...          ...  \n",
       "294        1   270            0  \n",
       "295        0   271            0  \n",
       "296        0   278            0  \n",
       "297        1   280            0  \n",
       "298        1   285            0  \n",
       "\n",
       "[299 rows x 13 columns]"
      ]
     },
     "execution_count": 3,
     "metadata": {},
     "output_type": "execute_result"
    }
   ],
   "source": [
    "data"
   ]
  },
  {
   "cell_type": "code",
   "execution_count": 4,
   "id": "3a4c04d1",
   "metadata": {},
   "outputs": [
    {
     "data": {
      "application/javascript": [
       "\n",
       "        if (window._pyforest_update_imports_cell) { window._pyforest_update_imports_cell('import seaborn as sns'); }\n",
       "    "
      ],
      "text/plain": [
       "<IPython.core.display.Javascript object>"
      ]
     },
     "metadata": {},
     "output_type": "display_data"
    },
    {
     "name": "stderr",
     "output_type": "stream",
     "text": [
      "F:\\vineethreddy\\lib\\site-packages\\seaborn\\distributions.py:2557: FutureWarning: `distplot` is a deprecated function and will be removed in a future version. Please adapt your code to use either `displot` (a figure-level function with similar flexibility) or `histplot` (an axes-level function for histograms).\n",
      "  warnings.warn(msg, FutureWarning)\n"
     ]
    },
    {
     "data": {
      "text/plain": [
       "<AxesSubplot:xlabel='platelets', ylabel='Density'>"
      ]
     },
     "execution_count": 4,
     "metadata": {},
     "output_type": "execute_result"
    },
    {
     "data": {
      "image/png": "[encoded data removed]",
      "text/plain": [
       "<Figure size 432x288 with 1 Axes>"
      ]
     },
     "metadata": {
      "needs_background": "light"
     },
     "output_type": "display_data"
    }
   ],
   "source": [
    "sns.distplot(data['platelets'])"
   ]
  },
  {
   "cell_type": "code",
   "execution_count": null,
   "id": "019f9e95",
   "metadata": {},
   "outputs": [],
   "source": []
  },
  {
   "cell_type": "code",
   "execution_count": 5,
   "id": "7395bbde",
   "metadata": {},
   "outputs": [
    {
     "data": {
      "text/plain": [
       "(299, 13)"
      ]
     },
     "execution_count": 5,
     "metadata": {},
     "output_type": "execute_result"
    }
   ],
   "source": [
    "data.shape"
   ]
  },
  {
   "cell_type": "code",
   "execution_count": 6,
   "id": "01a08f2a",
   "metadata": {},
   "outputs": [
    {
     "name": "stdout",
     "output_type": "stream",
     "text": [
      "<class 'pandas.core.frame.DataFrame'>\n",
      "RangeIndex: 299 entries, 0 to 298\n",
      "Data columns (total 13 columns):\n",
      " #   Column                    Non-Null Count  Dtype  \n",
      "---  ------                    --------------  -----  \n",
      " 0   age                       299 non-null    float64\n",
      " 1   anaemia                   299 non-null    int64  \n",
      " 2   creatinine_phosphokinase  299 non-null    int64  \n",
      " 3   diabetes                  299 non-null    int64  \n",
      " 4   ejection_fraction         299 non-null    int64  \n",
      " 5   high_blood_pressure       299 non-null    int64  \n",
      " 6   platelets                 299 non-null    float64\n",
      " 7   serum_creatinine          299 non-null    float64\n",
      " 8   serum_sodium              299 non-null    int64  \n",
      " 9   sex                       299 non-null    int64  \n",
      " 10  smoking                   299 non-null    int64  \n",
      " 11  time                      299 non-null    int64  \n",
      " 12  DEATH_EVENT               299 non-null    int64  \n",
      "dtypes: float64(3), int64(10)\n",
      "memory usage: 30.5 KB\n"
     ]
    }
   ],
   "source": [
    "data.info()"
   ]
  },
  {
   "cell_type": "code",
   "execution_count": 7,
   "id": "c86e02ba",
   "metadata": {},
   "outputs": [
    {
     "data": {
      "text/html": [
       "<div>\n",
       "<style scoped>\n",
       "    .dataframe tbody tr th:only-of-type {\n",
       "        vertical-align: middle;\n",
       "    }\n",
       "\n",
       "    .dataframe tbody tr th {\n",
       "        vertical-align: top;\n",
       "    }\n",
       "\n",
       "    .dataframe thead th {\n",
       "        text-align: right;\n",
       "    }\n",
       "</style>\n",
       "<table border=\"1\" class=\"dataframe\">\n",
       "  <thead>\n",
       "    <tr style=\"text-align: right;\">\n",
       "      <th></th>\n",
       "      <th>age</th>\n",
       "      <th>anaemia</th>\n",
       "      <th>creatinine_phosphokinase</th>\n",
       "      <th>diabetes</th>\n",
       "      <th>ejection_fraction</th>\n",
       "      <th>high_blood_pressure</th>\n",
       "      <th>platelets</th>\n",
       "      <th>serum_creatinine</th>\n",
       "      <th>serum_sodium</th>\n",
       "      <th>sex</th>\n",
       "      <th>smoking</th>\n",
       "      <th>time</th>\n",
       "      <th>DEATH_EVENT</th>\n",
       "    </tr>\n",
       "  </thead>\n",
       "  <tbody>\n",
       "    <tr>\n",
       "      <th>count</th>\n",
       "      <td>299.000000</td>\n",
       "      <td>299.000000</td>\n",
       "      <td>299.000000</td>\n",
       "      <td>299.000000</td>\n",
       "      <td>299.000000</td>\n",
       "      <td>299.000000</td>\n",
       "      <td>299.000000</td>\n",
       "      <td>299.00000</td>\n",
       "      <td>299.000000</td>\n",
       "      <td>299.000000</td>\n",
       "      <td>299.00000</td>\n",
       "      <td>299.000000</td>\n",
       "      <td>299.00000</td>\n",
       "    </tr>\n",
       "    <tr>\n",
       "      <th>mean</th>\n",
       "      <td>60.833893</td>\n",
       "      <td>0.431438</td>\n",
       "      <td>581.839465</td>\n",
       "      <td>0.418060</td>\n",
       "      <td>38.083612</td>\n",
       "      <td>0.351171</td>\n",
       "      <td>263358.029264</td>\n",
       "      <td>1.39388</td>\n",
       "      <td>136.625418</td>\n",
       "      <td>0.648829</td>\n",
       "      <td>0.32107</td>\n",
       "      <td>130.260870</td>\n",
       "      <td>0.32107</td>\n",
       "    </tr>\n",
       "    <tr>\n",
       "      <th>std</th>\n",
       "      <td>11.894809</td>\n",
       "      <td>0.496107</td>\n",
       "      <td>970.287881</td>\n",
       "      <td>0.494067</td>\n",
       "      <td>11.834841</td>\n",
       "      <td>0.478136</td>\n",
       "      <td>97804.236869</td>\n",
       "      <td>1.03451</td>\n",
       "      <td>4.412477</td>\n",
       "      <td>0.478136</td>\n",
       "      <td>0.46767</td>\n",
       "      <td>77.614208</td>\n",
       "      <td>0.46767</td>\n",
       "    </tr>\n",
       "    <tr>\n",
       "      <th>min</th>\n",
       "      <td>40.000000</td>\n",
       "      <td>0.000000</td>\n",
       "      <td>23.000000</td>\n",
       "      <td>0.000000</td>\n",
       "      <td>14.000000</td>\n",
       "      <td>0.000000</td>\n",
       "      <td>25100.000000</td>\n",
       "      <td>0.50000</td>\n",
       "      <td>113.000000</td>\n",
       "      <td>0.000000</td>\n",
       "      <td>0.00000</td>\n",
       "      <td>4.000000</td>\n",
       "      <td>0.00000</td>\n",
       "    </tr>\n",
       "    <tr>\n",
       "      <th>25%</th>\n",
       "      <td>51.000000</td>\n",
       "      <td>0.000000</td>\n",
       "      <td>116.500000</td>\n",
       "      <td>0.000000</td>\n",
       "      <td>30.000000</td>\n",
       "      <td>0.000000</td>\n",
       "      <td>212500.000000</td>\n",
       "      <td>0.90000</td>\n",
       "      <td>134.000000</td>\n",
       "      <td>0.000000</td>\n",
       "      <td>0.00000</td>\n",
       "      <td>73.000000</td>\n",
       "      <td>0.00000</td>\n",
       "    </tr>\n",
       "    <tr>\n",
       "      <th>50%</th>\n",
       "      <td>60.000000</td>\n",
       "      <td>0.000000</td>\n",
       "      <td>250.000000</td>\n",
       "      <td>0.000000</td>\n",
       "      <td>38.000000</td>\n",
       "      <td>0.000000</td>\n",
       "      <td>262000.000000</td>\n",
       "      <td>1.10000</td>\n",
       "      <td>137.000000</td>\n",
       "      <td>1.000000</td>\n",
       "      <td>0.00000</td>\n",
       "      <td>115.000000</td>\n",
       "      <td>0.00000</td>\n",
       "    </tr>\n",
       "    <tr>\n",
       "      <th>75%</th>\n",
       "      <td>70.000000</td>\n",
       "      <td>1.000000</td>\n",
       "      <td>582.000000</td>\n",
       "      <td>1.000000</td>\n",
       "      <td>45.000000</td>\n",
       "      <td>1.000000</td>\n",
       "      <td>303500.000000</td>\n",
       "      <td>1.40000</td>\n",
       "      <td>140.000000</td>\n",
       "      <td>1.000000</td>\n",
       "      <td>1.00000</td>\n",
       "      <td>203.000000</td>\n",
       "      <td>1.00000</td>\n",
       "    </tr>\n",
       "    <tr>\n",
       "      <th>max</th>\n",
       "      <td>95.000000</td>\n",
       "      <td>1.000000</td>\n",
       "      <td>7861.000000</td>\n",
       "      <td>1.000000</td>\n",
       "      <td>80.000000</td>\n",
       "      <td>1.000000</td>\n",
       "      <td>850000.000000</td>\n",
       "      <td>9.40000</td>\n",
       "      <td>148.000000</td>\n",
       "      <td>1.000000</td>\n",
       "      <td>1.00000</td>\n",
       "      <td>285.000000</td>\n",
       "      <td>1.00000</td>\n",
       "    </tr>\n",
       "  </tbody>\n",
       "</table>\n",
       "</div>"
      ],
      "text/plain": [
       "              age     anaemia  creatinine_phosphokinase    diabetes  \\\n",
       "count  299.000000  299.000000                299.000000  299.000000   \n",
       "mean    60.833893    0.431438                581.839465    0.418060   \n",
       "std     11.894809    0.496107                970.287881    0.494067   \n",
       "min     40.000000    0.000000                 23.000000    0.000000   \n",
       "25%     51.000000    0.000000                116.500000    0.000000   \n",
       "50%     60.000000    0.000000                250.000000    0.000000   \n",
       "75%     70.000000    1.000000                582.000000    1.000000   \n",
       "max     95.000000    1.000000               7861.000000    1.000000   \n",
       "\n",
       "       ejection_fraction  high_blood_pressure      platelets  \\\n",
       "count         299.000000           299.000000     299.000000   \n",
       "mean           38.083612             0.351171  263358.029264   \n",
       "std            11.834841             0.478136   97804.236869   \n",
       "min            14.000000             0.000000   25100.000000   \n",
       "25%            30.000000             0.000000  212500.000000   \n",
       "50%            38.000000             0.000000  262000.000000   \n",
       "75%            45.000000             1.000000  303500.000000   \n",
       "max            80.000000             1.000000  850000.000000   \n",
       "\n",
       "       serum_creatinine  serum_sodium         sex    smoking        time  \\\n",
       "count         299.00000    299.000000  299.000000  299.00000  299.000000   \n",
       "mean            1.39388    136.625418    0.648829    0.32107  130.260870   \n",
       "std             1.03451      4.412477    0.478136    0.46767   77.614208   \n",
       "min             0.50000    113.000000    0.000000    0.00000    4.000000   \n",
       "25%             0.90000    134.000000    0.000000    0.00000   73.000000   \n",
       "50%             1.10000    137.000000    1.000000    0.00000  115.000000   \n",
       "75%             1.40000    140.000000    1.000000    1.00000  203.000000   \n",
       "max             9.40000    148.000000    1.000000    1.00000  285.000000   \n",
       "\n",
       "       DEATH_EVENT  \n",
       "count    299.00000  \n",
       "mean       0.32107  \n",
       "std        0.46767  \n",
       "min        0.00000  \n",
       "25%        0.00000  \n",
       "50%        0.00000  \n",
       "75%        1.00000  \n",
       "max        1.00000  "
      ]
     },
     "execution_count": 7,
     "metadata": {},
     "output_type": "execute_result"
    }
   ],
   "source": [
    "data.describe()"
   ]
  },
  {
   "cell_type": "code",
   "execution_count": 8,
   "id": "0cecd5ec",
   "metadata": {},
   "outputs": [
    {
     "data": {
      "text/plain": [
       "age                         0\n",
       "anaemia                     0\n",
       "creatinine_phosphokinase    0\n",
       "diabetes                    0\n",
       "ejection_fraction           0\n",
       "high_blood_pressure         0\n",
       "platelets                   0\n",
       "serum_creatinine            0\n",
       "serum_sodium                0\n",
       "sex                         0\n",
       "smoking                     0\n",
       "time                        0\n",
       "DEATH_EVENT                 0\n",
       "dtype: int64"
      ]
     },
     "execution_count": 8,
     "metadata": {},
     "output_type": "execute_result"
    }
   ],
   "source": [
    "data.isna().sum()"
   ]
  },
  {
   "cell_type": "code",
   "execution_count": 9,
   "id": "eb910906",
   "metadata": {},
   "outputs": [],
   "source": [
    "import matplotlib.pyplot as plt"
   ]
  },
  {
   "cell_type": "code",
   "execution_count": 10,
   "id": "d0a35567",
   "metadata": {},
   "outputs": [
    {
     "data": {
      "application/javascript": [
       "\n",
       "        if (window._pyforest_update_imports_cell) { window._pyforest_update_imports_cell('import seaborn as sns'); }\n",
       "    "
      ],
      "text/plain": [
       "<IPython.core.display.Javascript object>"
      ]
     },
     "metadata": {},
     "output_type": "display_data"
    },
    {
     "name": "stderr",
     "output_type": "stream",
     "text": [
      "F:\\vineethreddy\\lib\\site-packages\\seaborn\\_decorators.py:36: FutureWarning: Pass the following variable as a keyword arg: x. From version 0.12, the only valid positional argument will be `data`, and passing other arguments without an explicit keyword will result in an error or misinterpretation.\n",
      "  warnings.warn(\n"
     ]
    },
    {
     "data": {
      "text/plain": [
       "<AxesSubplot:xlabel='DEATH_EVENT', ylabel='count'>"
      ]
     },
     "execution_count": 10,
     "metadata": {},
     "output_type": "execute_result"
    },
    {
     "data": {
      "image/png": "[encoded data removed]",
      "text/plain": [
       "<Figure size 432x288 with 1 Axes>"
      ]
     },
     "metadata": {
      "needs_background": "light"
     },
     "output_type": "display_data"
    }
   ],
   "source": [
    "sns.countplot(data['DEATH_EVENT'])"
   ]
  },
  {
   "cell_type": "code",
   "execution_count": 11,
   "id": "bde35deb",
   "metadata": {},
   "outputs": [
    {
     "data": {
      "application/javascript": [
       "\n",
       "        if (window._pyforest_update_imports_cell) { window._pyforest_update_imports_cell('import seaborn as sns'); }\n",
       "    "
      ],
      "text/plain": [
       "<IPython.core.display.Javascript object>"
      ]
     },
     "metadata": {},
     "output_type": "display_data"
    },
    {
     "name": "stderr",
     "output_type": "stream",
     "text": [
      "F:\\vineethreddy\\lib\\site-packages\\seaborn\\_decorators.py:36: FutureWarning: Pass the following variable as a keyword arg: x. From version 0.12, the only valid positional argument will be `data`, and passing other arguments without an explicit keyword will result in an error or misinterpretation.\n",
      "  warnings.warn(\n"
     ]
    },
    {
     "data": {
      "text/plain": [
       "<AxesSubplot:xlabel='anaemia', ylabel='count'>"
      ]
     },
     "execution_count": 11,
     "metadata": {},
     "output_type": "execute_result"
    },
    {
     "data": {
      "image/png": "[encoded data removed]",
      "text/plain": [
       "<Figure size 432x288 with 1 Axes>"
      ]
     },
     "metadata": {
      "needs_background": "light"
     },
     "output_type": "display_data"
    }
   ],
   "source": [
    "sns.countplot(data['anaemia'])"
   ]
  },
  {
   "cell_type": "code",
   "execution_count": 12,
   "id": "b65b23a5",
   "metadata": {},
   "outputs": [
    {
     "data": {
      "application/javascript": [
       "\n",
       "        if (window._pyforest_update_imports_cell) { window._pyforest_update_imports_cell('import seaborn as sns'); }\n",
       "    "
      ],
      "text/plain": [
       "<IPython.core.display.Javascript object>"
      ]
     },
     "metadata": {},
     "output_type": "display_data"
    },
    {
     "name": "stderr",
     "output_type": "stream",
     "text": [
      "F:\\vineethreddy\\lib\\site-packages\\seaborn\\_decorators.py:36: FutureWarning: Pass the following variable as a keyword arg: x. From version 0.12, the only valid positional argument will be `data`, and passing other arguments without an explicit keyword will result in an error or misinterpretation.\n",
      "  warnings.warn(\n"
     ]
    },
    {
     "data": {
      "text/plain": [
       "<AxesSubplot:xlabel='diabetes', ylabel='count'>"
      ]
     },
     "execution_count": 12,
     "metadata": {},
     "output_type": "execute_result"
    },
    {
     "data": {
      "image/png": "[encoded data removed]",
      "text/plain": [
       "<Figure size 432x288 with 1 Axes>"
      ]
     },
     "metadata": {
      "needs_background": "light"
     },
     "output_type": "display_data"
    }
   ],
   "source": [
    "sns.countplot(data['diabetes'])"
   ]
  },
  {
   "cell_type": "code",
   "execution_count": 13,
   "id": "03055ea2",
   "metadata": {},
   "outputs": [
    {
     "data": {
      "application/javascript": [
       "\n",
       "        if (window._pyforest_update_imports_cell) { window._pyforest_update_imports_cell('import seaborn as sns'); }\n",
       "    "
      ],
      "text/plain": [
       "<IPython.core.display.Javascript object>"
      ]
     },
     "metadata": {},
     "output_type": "display_data"
    },
    {
     "name": "stderr",
     "output_type": "stream",
     "text": [
      "F:\\vineethreddy\\lib\\site-packages\\seaborn\\_decorators.py:36: FutureWarning: Pass the following variable as a keyword arg: x. From version 0.12, the only valid positional argument will be `data`, and passing other arguments without an explicit keyword will result in an error or misinterpretation.\n",
      "  warnings.warn(\n"
     ]
    },
    {
     "data": {
      "text/plain": [
       "<AxesSubplot:xlabel='high_blood_pressure', ylabel='count'>"
      ]
     },
     "execution_count": 13,
     "metadata": {},
     "output_type": "execute_result"
    },
    {
     "data": {
      "image/png": "[encoded data removed]",
      "text/plain": [
       "<Figure size 432x288 with 1 Axes>"
      ]
     },
     "metadata": {
      "needs_background": "light"
     },
     "output_type": "display_data"
    }
   ],
   "source": [
    "sns.countplot(data['high_blood_pressure'])"
   ]
  },
  {
   "cell_type": "code",
   "execution_count": 14,
   "id": "f0b819e3",
   "metadata": {},
   "outputs": [
    {
     "data": {
      "application/javascript": [
       "\n",
       "        if (window._pyforest_update_imports_cell) { window._pyforest_update_imports_cell('import seaborn as sns'); }\n",
       "    "
      ],
      "text/plain": [
       "<IPython.core.display.Javascript object>"
      ]
     },
     "metadata": {},
     "output_type": "display_data"
    },
    {
     "name": "stderr",
     "output_type": "stream",
     "text": [
      "F:\\vineethreddy\\lib\\site-packages\\seaborn\\_decorators.py:36: FutureWarning: Pass the following variable as a keyword arg: x. From version 0.12, the only valid positional argument will be `data`, and passing other arguments without an explicit keyword will result in an error or misinterpretation.\n",
      "  warnings.warn(\n"
     ]
    },
    {
     "data": {
      "text/plain": [
       "<AxesSubplot:xlabel='sex', ylabel='count'>"
      ]
     },
     "execution_count": 14,
     "metadata": {},
     "output_type": "execute_result"
    },
    {
     "data": {
      "image/png": "[encoded data removed]",
      "text/plain": [
       "<Figure size 432x288 with 1 Axes>"
      ]
     },
     "metadata": {
      "needs_background": "light"
     },
     "output_type": "display_data"
    }
   ],
   "source": [
    "sns.countplot(data['sex'])"
   ]
  },
  {
   "cell_type": "code",
   "execution_count": 15,
   "id": "155da358",
   "metadata": {},
   "outputs": [
    {
     "data": {
      "application/javascript": [
       "\n",
       "        if (window._pyforest_update_imports_cell) { window._pyforest_update_imports_cell('import seaborn as sns'); }\n",
       "    "
      ],
      "text/plain": [
       "<IPython.core.display.Javascript object>"
      ]
     },
     "metadata": {},
     "output_type": "display_data"
    },
    {
     "name": "stderr",
     "output_type": "stream",
     "text": [
      "F:\\vineethreddy\\lib\\site-packages\\seaborn\\_decorators.py:36: FutureWarning: Pass the following variable as a keyword arg: x. From version 0.12, the only valid positional argument will be `data`, and passing other arguments without an explicit keyword will result in an error or misinterpretation.\n",
      "  warnings.warn(\n"
     ]
    },
    {
     "data": {
      "text/plain": [
       "<AxesSubplot:xlabel='smoking', ylabel='count'>"
      ]
     },
     "execution_count": 15,
     "metadata": {},
     "output_type": "execute_result"
    },
    {
     "data": {
      "image/png": "[encoded data removed]",
      "text/plain": [
       "<Figure size 432x288 with 1 Axes>"
      ]
     },
     "metadata": {
      "needs_background": "light"
     },
     "output_type": "display_data"
    }
   ],
   "source": [
    "sns.countplot(data['smoking'])"
   ]
  },
  {
   "cell_type": "code",
   "execution_count": 16,
   "id": "6b2a5f12",
   "metadata": {},
   "outputs": [
    {
     "data": {
      "application/javascript": [
       "\n",
       "        if (window._pyforest_update_imports_cell) { window._pyforest_update_imports_cell('import seaborn as sns'); }\n",
       "    "
      ],
      "text/plain": [
       "<IPython.core.display.Javascript object>"
      ]
     },
     "metadata": {},
     "output_type": "display_data"
    },
    {
     "name": "stderr",
     "output_type": "stream",
     "text": [
      "F:\\vineethreddy\\lib\\site-packages\\seaborn\\distributions.py:2557: FutureWarning: `distplot` is a deprecated function and will be removed in a future version. Please adapt your code to use either `displot` (a figure-level function with similar flexibility) or `histplot` (an axes-level function for histograms).\n",
      "  warnings.warn(msg, FutureWarning)\n"
     ]
    },
    {
     "data": {
      "text/plain": [
       "<AxesSubplot:xlabel='creatinine_phosphokinase', ylabel='Density'>"
      ]
     },
     "execution_count": 16,
     "metadata": {},
     "output_type": "execute_result"
    },
    {
     "data": {
      "image/png": "[encoded data removed]",
      "text/plain": [
       "<Figure size 432x288 with 1 Axes>"
      ]
     },
     "metadata": {
      "needs_background": "light"
     },
     "output_type": "display_data"
    }
   ],
   "source": [
    "sns.distplot(data['creatinine_phosphokinase'])"
   ]
  },
  {
   "cell_type": "code",
   "execution_count": 17,
   "id": "0e7ce06c",
   "metadata": {},
   "outputs": [
    {
     "data": {
      "application/javascript": [
       "\n",
       "        if (window._pyforest_update_imports_cell) { window._pyforest_update_imports_cell('import seaborn as sns'); }\n",
       "    "
      ],
      "text/plain": [
       "<IPython.core.display.Javascript object>"
      ]
     },
     "metadata": {},
     "output_type": "display_data"
    },
    {
     "name": "stderr",
     "output_type": "stream",
     "text": [
      "F:\\vineethreddy\\lib\\site-packages\\seaborn\\distributions.py:2557: FutureWarning: `distplot` is a deprecated function and will be removed in a future version. Please adapt your code to use either `displot` (a figure-level function with similar flexibility) or `histplot` (an axes-level function for histograms).\n",
      "  warnings.warn(msg, FutureWarning)\n"
     ]
    },
    {
     "data": {
      "text/plain": [
       "<AxesSubplot:xlabel='platelets', ylabel='Density'>"
      ]
     },
     "execution_count": 17,
     "metadata": {},
     "output_type": "execute_result"
    },
    {
     "data": {
      "image/png": "[encoded data removed]",
      "text/plain": [
       "<Figure size 432x288 with 1 Axes>"
      ]
     },
     "metadata": {
      "needs_background": "light"
     },
     "output_type": "display_data"
    }
   ],
   "source": [
    "sns.distplot(data['platelets'])"
   ]
  },
  {
   "cell_type": "code",
   "execution_count": 18,
   "id": "e367f882",
   "metadata": {},
   "outputs": [
    {
     "data": {
      "application/javascript": [
       "\n",
       "        if (window._pyforest_update_imports_cell) { window._pyforest_update_imports_cell('import seaborn as sns'); }\n",
       "    "
      ],
      "text/plain": [
       "<IPython.core.display.Javascript object>"
      ]
     },
     "metadata": {},
     "output_type": "display_data"
    },
    {
     "name": "stderr",
     "output_type": "stream",
     "text": [
      "F:\\vineethreddy\\lib\\site-packages\\seaborn\\distributions.py:2557: FutureWarning: `distplot` is a deprecated function and will be removed in a future version. Please adapt your code to use either `displot` (a figure-level function with similar flexibility) or `histplot` (an axes-level function for histograms).\n",
      "  warnings.warn(msg, FutureWarning)\n"
     ]
    },
    {
     "data": {
      "text/plain": [
       "<AxesSubplot:xlabel='ejection_fraction', ylabel='Density'>"
      ]
     },
     "execution_count": 18,
     "metadata": {},
     "output_type": "execute_result"
    },
    {
     "data": {
      "image/png": "[encoded data removed]",
      "text/plain": [
       "<Figure size 432x288 with 1 Axes>"
      ]
     },
     "metadata": {
      "needs_background": "light"
     },
     "output_type": "display_data"
    }
   ],
   "source": [
    "sns.distplot(data['ejection_fraction'])"
   ]
  },
  {
   "cell_type": "code",
   "execution_count": 19,
   "id": "530a3cf7",
   "metadata": {},
   "outputs": [
    {
     "data": {
      "application/javascript": [
       "\n",
       "        if (window._pyforest_update_imports_cell) { window._pyforest_update_imports_cell('import seaborn as sns'); }\n",
       "    "
      ],
      "text/plain": [
       "<IPython.core.display.Javascript object>"
      ]
     },
     "metadata": {},
     "output_type": "display_data"
    },
    {
     "name": "stderr",
     "output_type": "stream",
     "text": [
      "F:\\vineethreddy\\lib\\site-packages\\seaborn\\distributions.py:2557: FutureWarning: `distplot` is a deprecated function and will be removed in a future version. Please adapt your code to use either `displot` (a figure-level function with similar flexibility) or `histplot` (an axes-level function for histograms).\n",
      "  warnings.warn(msg, FutureWarning)\n"
     ]
    },
    {
     "data": {
      "text/plain": [
       "<AxesSubplot:xlabel='serum_sodium', ylabel='Density'>"
      ]
     },
     "execution_count": 19,
     "metadata": {},
     "output_type": "execute_result"
    },
    {
     "data": {
      "image/png": "[encoded data removed]",
      "text/plain": [
       "<Figure size 432x288 with 1 Axes>"
      ]
     },
     "metadata": {
      "needs_background": "light"
     },
     "output_type": "display_data"
    }
   ],
   "source": [
    "sns.distplot(data['serum_sodium'])"
   ]
  },
  {
   "cell_type": "code",
   "execution_count": 20,
   "id": "06c04ce1",
   "metadata": {},
   "outputs": [
    {
     "data": {
      "application/javascript": [
       "\n",
       "        if (window._pyforest_update_imports_cell) { window._pyforest_update_imports_cell('import seaborn as sns'); }\n",
       "    "
      ],
      "text/plain": [
       "<IPython.core.display.Javascript object>"
      ]
     },
     "metadata": {},
     "output_type": "display_data"
    },
    {
     "name": "stderr",
     "output_type": "stream",
     "text": [
      "F:\\vineethreddy\\lib\\site-packages\\seaborn\\distributions.py:2557: FutureWarning: `distplot` is a deprecated function and will be removed in a future version. Please adapt your code to use either `displot` (a figure-level function with similar flexibility) or `histplot` (an axes-level function for histograms).\n",
      "  warnings.warn(msg, FutureWarning)\n"
     ]
    },
    {
     "data": {
      "text/plain": [
       "<AxesSubplot:xlabel='time', ylabel='Density'>"
      ]
     },
     "execution_count": 20,
     "metadata": {},
     "output_type": "execute_result"
    },
    {
     "data": {
      "image/png": "[encoded data removed]",
      "text/plain": [
       "<Figure size 432x288 with 1 Axes>"
      ]
     },
     "metadata": {
      "needs_background": "light"
     },
     "output_type": "display_data"
    }
   ],
   "source": [
    "sns.distplot(data['time'])"
   ]
  },
  {
   "cell_type": "code",
   "execution_count": 21,
   "id": "7e9d65ac",
   "metadata": {
    "scrolled": true
   },
   "outputs": [],
   "source": [
    "corr = data.corr()"
   ]
  },
  {
   "cell_type": "code",
   "execution_count": 22,
   "id": "cd3b3534",
   "metadata": {},
   "outputs": [
    {
     "data": {
      "application/javascript": [
       "\n",
       "        if (window._pyforest_update_imports_cell) { window._pyforest_update_imports_cell('import seaborn as sns'); }\n",
       "    "
      ],
      "text/plain": [
       "<IPython.core.display.Javascript object>"
      ]
     },
     "metadata": {},
     "output_type": "display_data"
    },
    {
     "data": {
      "text/plain": [
       "<AxesSubplot:>"
      ]
     },
     "execution_count": 22,
     "metadata": {},
     "output_type": "execute_result"
    },
    {
     "data": {
      "image/png": "[encoded data removed]",
      "text/plain": [
       "<Figure size 720x576 with 2 Axes>"
      ]
     },
     "metadata": {
      "needs_background": "light"
     },
     "output_type": "display_data"
    }
   ],
   "source": [
    "plt.figure(figsize=(10,8))\n",
    "sns.heatmap(corr,annot=True)"
   ]
  },
  {
   "cell_type": "code",
   "execution_count": 23,
   "id": "2a8bb8c2",
   "metadata": {},
   "outputs": [],
   "source": [
    "X = data.iloc[: , 0:12]"
   ]
  },
  {
   "cell_type": "code",
   "execution_count": 24,
   "id": "ea3e6f18",
   "metadata": {},
   "outputs": [],
   "source": [
    "y = data.iloc[: , -1]"
   ]
  },
  {
   "cell_type": "code",
   "execution_count": 25,
   "id": "a1d6d888",
   "metadata": {},
   "outputs": [
    {
     "data": {
      "text/plain": [
       "0      1\n",
       "1      1\n",
       "2      1\n",
       "3      1\n",
       "4      1\n",
       "      ..\n",
       "294    0\n",
       "295    0\n",
       "296    0\n",
       "297    0\n",
       "298    0\n",
       "Name: DEATH_EVENT, Length: 299, dtype: int64"
      ]
     },
     "execution_count": 25,
     "metadata": {},
     "output_type": "execute_result"
    }
   ],
   "source": [
    "y"
   ]
  },
  {
   "cell_type": "code",
   "execution_count": 26,
   "id": "be32c961",
   "metadata": {},
   "outputs": [],
   "source": [
    "from sklearn.model_selection import train_test_split\n"
   ]
  },
  {
   "cell_type": "code",
   "execution_count": 27,
   "id": "3ede1b4c",
   "metadata": {},
   "outputs": [],
   "source": [
    "X_train, X_test, y_train, y_test = train_test_split(X,y, test_size=0.2,random_state=0)"
   ]
  },
  {
   "cell_type": "code",
   "execution_count": 28,
   "id": "d7800785",
   "metadata": {},
   "outputs": [],
   "source": [
    "from sklearn.preprocessing import StandardScaler\n",
    "scaler = StandardScaler()\n",
    "X_train = scaler.fit_transform(X_train)\n",
    "X_test= scaler.transform(X_test)"
   ]
  },
  {
   "cell_type": "code",
   "execution_count": 29,
   "id": "5c97f3e2",
   "metadata": {},
   "outputs": [],
   "source": [
    "import keras\n",
    "from tensorflow.keras.layers import Dense,Dropout\n",
    "from tensorflow.keras.models import Sequential"
   ]
  },
  {
   "cell_type": "code",
   "execution_count": 30,
   "id": "413ba875",
   "metadata": {},
   "outputs": [
    {
     "name": "stdout",
     "output_type": "stream",
     "text": [
      "Model: \"sequential\"\n",
      "_________________________________________________________________\n",
      " Layer (type)                Output Shape              Param #   \n",
      "=================================================================\n",
      " dense (Dense)               (None, 18)                234       \n",
      "                                                                 \n",
      " dropout (Dropout)           (None, 18)                0         \n",
      "                                                                 \n",
      " dense_1 (Dense)             (None, 15)                285       \n",
      "                                                                 \n",
      " dropout_1 (Dropout)         (None, 15)                0         \n",
      "                                                                 \n",
      " dense_2 (Dense)             (None, 10)                160       \n",
      "                                                                 \n",
      " dropout_2 (Dropout)         (None, 10)                0         \n",
      "                                                                 \n",
      " dense_3 (Dense)             (None, 6)                 66        \n",
      "                                                                 \n",
      " dropout_3 (Dropout)         (None, 6)                 0         \n",
      "                                                                 \n",
      " dense_4 (Dense)             (None, 1)                 7         \n",
      "                                                                 \n",
      "=================================================================\n",
      "Total params: 752\n",
      "Trainable params: 752\n",
      "Non-trainable params: 0\n",
      "_________________________________________________________________\n"
     ]
    },
    {
     "data": {
      "text/plain": [
       "[array([[-1.75614268e-01,  3.72882783e-01,  2.24370539e-01,\n",
       "         -2.78448522e-01,  8.40789080e-02,  2.95916736e-01,\n",
       "          3.26601028e-01,  3.04651499e-01, -4.24323440e-01,\n",
       "          2.10348725e-01, -1.23302042e-01,  3.11085582e-03,\n",
       "          3.04496706e-01,  3.55211258e-01, -3.83382142e-01,\n",
       "         -3.94012243e-01,  1.43022895e-01, -3.96702290e-02],\n",
       "        [ 3.02128375e-01, -5.06341457e-05, -3.88701618e-01,\n",
       "         -4.16131288e-01,  2.56643414e-01, -2.64767945e-01,\n",
       "          3.31196487e-02, -3.02412510e-02, -2.08365321e-01,\n",
       "          7.90497661e-02, -9.34531987e-02, -1.97709307e-01,\n",
       "         -1.43462539e-01,  2.69522429e-01,  9.55448151e-02,\n",
       "          8.14344287e-02,  4.61078584e-02,  2.45068192e-01],\n",
       "        [-4.22004163e-01, -2.72621334e-01, -2.96319604e-01,\n",
       "          2.54141450e-01, -3.03730607e-01, -5.19728661e-03,\n",
       "         -2.94181108e-02, -4.34771180e-03, -2.95607030e-01,\n",
       "         -1.87551767e-01, -1.62567943e-01, -4.41655278e-01,\n",
       "         -1.18174076e-01, -2.55284488e-01,  4.50905561e-02,\n",
       "          4.09519970e-01,  1.21851742e-01,  1.70242965e-01],\n",
       "        [-2.23920166e-01, -6.87651336e-02, -7.06014335e-02,\n",
       "          3.55336845e-01,  4.44706142e-01,  1.61567390e-01,\n",
       "         -1.25511944e-01, -4.03715968e-02,  2.91248679e-01,\n",
       "         -4.08952206e-01,  1.14389122e-01,  2.05971479e-01,\n",
       "         -2.83725470e-01,  3.49679351e-01, -4.22459662e-01,\n",
       "         -1.98642701e-01,  1.08063042e-01, -1.68175101e-01],\n",
       "        [-2.44125202e-01, -1.72336727e-01,  3.56672645e-01,\n",
       "         -8.99513364e-02,  4.38078463e-01, -2.87627697e-01,\n",
       "          9.95583534e-02,  3.95917952e-01,  3.65779996e-01,\n",
       "          2.55744159e-02,  8.47499967e-02,  2.19031453e-01,\n",
       "          2.87571907e-01,  2.34994113e-01,  3.69638979e-01,\n",
       "         -2.51480043e-01, -4.11137044e-02,  2.47718632e-01],\n",
       "        [ 2.30536163e-01,  2.98158824e-01, -1.25373125e-01,\n",
       "         -1.08684659e-01,  3.45273972e-01, -3.99567485e-01,\n",
       "         -2.53148973e-02, -5.34501970e-02, -3.64125013e-01,\n",
       "          4.35670674e-01, -3.51166785e-01, -1.05364680e-01,\n",
       "         -3.24291974e-01,  4.19758558e-01, -2.18624249e-01,\n",
       "          2.80639589e-01, -3.20002913e-01, -2.58880496e-01],\n",
       "        [ 7.61798024e-02,  1.37101948e-01, -3.42305571e-01,\n",
       "          3.80455852e-01, -2.13790774e-01,  4.06475842e-01,\n",
       "          4.33231771e-01,  3.87196720e-01,  4.45854366e-01,\n",
       "         -6.37125373e-02, -2.06087083e-01, -2.66567945e-01,\n",
       "          2.92674720e-01, -1.26375705e-01, -1.07422441e-01,\n",
       "          1.54670954e-01,  4.13108468e-02,  3.57358217e-01],\n",
       "        [-2.85915434e-02,  1.49343073e-01, -4.36205178e-01,\n",
       "          1.97383761e-03,  2.94095635e-01,  3.78752112e-01,\n",
       "         -1.75970912e-01, -1.28701061e-01,  3.07132840e-01,\n",
       "         -1.30714774e-01,  3.16998363e-01, -1.60829008e-01,\n",
       "         -2.37300202e-01, -3.57901990e-01,  1.65417373e-01,\n",
       "         -3.94948632e-01, -2.09360763e-01,  3.94026756e-01],\n",
       "        [-1.77287728e-01,  2.80337930e-02, -1.55995339e-01,\n",
       "         -1.72854066e-01,  2.63039231e-01, -3.72732878e-01,\n",
       "         -3.36736381e-01, -3.37820739e-01, -3.05736512e-01,\n",
       "          3.87999415e-01, -1.84445709e-01, -2.58271098e-01,\n",
       "          1.59435868e-02, -1.33925647e-01, -1.05260104e-01,\n",
       "          1.89521730e-01, -9.65918899e-02, -2.97703743e-02],\n",
       "        [-1.36237025e-01, -3.89456213e-01,  1.73032701e-01,\n",
       "          1.40574694e-01, -5.75357080e-02, -3.73187184e-01,\n",
       "         -2.00105160e-01,  2.44756937e-01, -4.47998941e-02,\n",
       "          3.44696403e-01,  6.45471811e-02, -3.29308629e-01,\n",
       "         -1.44815743e-02, -4.04735327e-01,  8.31818581e-02,\n",
       "         -1.38288587e-01,  4.33291197e-02, -1.18444055e-01],\n",
       "        [-2.86275387e-01, -1.36295468e-01, -6.10649586e-02,\n",
       "          1.90055609e-01, -8.83153081e-02, -7.14960098e-02,\n",
       "          4.46917057e-01,  2.83012807e-01, -1.70487553e-01,\n",
       "         -3.65300000e-01,  1.23283386e-01,  3.16832960e-01,\n",
       "          2.00761616e-01, -1.74557298e-01, -1.60532504e-01,\n",
       "          3.49037170e-01,  2.28946328e-01,  4.14255679e-01],\n",
       "        [-2.71337569e-01,  3.84605527e-02,  1.18765533e-01,\n",
       "          2.73402870e-01,  3.67534518e-01,  3.30184221e-01,\n",
       "          3.70592594e-01,  2.70682395e-01, -2.67304420e-01,\n",
       "          2.49879301e-01,  1.63837552e-01,  9.11852717e-02,\n",
       "          2.02168345e-01,  1.33379638e-01,  1.18272603e-01,\n",
       "          1.20722413e-01,  2.15929568e-01, -3.58340442e-01]], dtype=float32),\n",
       " array([0., 0., 0., 0., 0., 0., 0., 0., 0., 0., 0., 0., 0., 0., 0., 0., 0.,\n",
       "        0.], dtype=float32),\n",
       " array([[-0.07755551,  0.18216115, -0.27637827,  0.4102068 , -0.338068  ,\n",
       "          0.01899871, -0.16699675, -0.20413542,  0.30713367, -0.33580086,\n",
       "         -0.10910511, -0.13988066, -0.40030235, -0.39145157,  0.11413789],\n",
       "        [-0.19534186, -0.2416982 , -0.18772736, -0.19650334, -0.01724696,\n",
       "          0.01245564, -0.16828421,  0.3927275 ,  0.1334511 ,  0.22049475,\n",
       "         -0.19065289,  0.41394132, -0.33987263,  0.04462892, -0.16318911],\n",
       "        [ 0.15163153, -0.08967698, -0.13636029,  0.30163437,  0.4036085 ,\n",
       "         -0.2640609 ,  0.25170285,  0.23494571,  0.3823771 ,  0.36522877,\n",
       "         -0.12020689, -0.19313852,  0.10752022, -0.0706659 , -0.12994531],\n",
       "        [ 0.18837517, -0.04081556, -0.13871905, -0.08103195, -0.31551135,\n",
       "         -0.38032293, -0.3142673 ,  0.17595208,  0.05370113,  0.31707585,\n",
       "         -0.34828606, -0.21548374, -0.1802186 ,  0.34718865,  0.13586795],\n",
       "        [ 0.23503262, -0.15232915, -0.06026241, -0.07452792,  0.38987714,\n",
       "          0.05348918,  0.23617947, -0.27827877, -0.25959712, -0.06432432,\n",
       "         -0.12000316,  0.02580589,  0.42592484, -0.28528905, -0.24435434],\n",
       "        [ 0.2015521 ,  0.11646432, -0.07017383, -0.37024292, -0.23887089,\n",
       "          0.16439503, -0.31709453, -0.3569983 , -0.15106815, -0.33596665,\n",
       "         -0.32873625,  0.20898998,  0.13399714, -0.25597644,  0.17339271],\n",
       "        [-0.2868523 ,  0.32292587, -0.21275789, -0.1443991 ,  0.3636611 ,\n",
       "         -0.27227703,  0.17085868,  0.11953002,  0.3260973 , -0.22925417,\n",
       "          0.38874358, -0.10487598,  0.31006926, -0.19519638, -0.19789834],\n",
       "        [-0.37491563, -0.20437157,  0.3440265 ,  0.29256427, -0.06521285,\n",
       "         -0.3865489 , -0.29101437,  0.42113847, -0.01818895,  0.15854251,\n",
       "          0.2253905 ,  0.38710004,  0.20440024,  0.3625518 ,  0.25132257],\n",
       "        [ 0.30924886, -0.2501642 , -0.12185273, -0.08860922,  0.29826784,\n",
       "         -0.2786369 , -0.07067889,  0.24589461,  0.2812866 , -0.21356365,\n",
       "         -0.08043683, -0.32257247, -0.3584967 ,  0.06898317, -0.01101425],\n",
       "        [-0.00764987, -0.18666083,  0.15989333,  0.20288682,  0.14083374,\n",
       "          0.2529025 ,  0.26678067,  0.179057  , -0.16122621, -0.35692856,\n",
       "          0.15041077, -0.14580885, -0.38395968,  0.08270204,  0.2029559 ],\n",
       "        [ 0.3838951 ,  0.36407888,  0.00396594, -0.21118069,  0.1397978 ,\n",
       "          0.11316192, -0.04667091,  0.03004092,  0.37926584, -0.36043426,\n",
       "         -0.19417843,  0.42551   , -0.018839  , -0.01035774, -0.32299408],\n",
       "        [-0.31816196,  0.25874245,  0.17520827,  0.26931268, -0.2748627 ,\n",
       "          0.39008838, -0.03550261, -0.2704022 , -0.10351166, -0.22388662,\n",
       "          0.33026904, -0.12101442,  0.03631803, -0.08385247,  0.29577023],\n",
       "        [-0.06502709,  0.17074353, -0.3218333 ,  0.22547346,  0.18213034,\n",
       "         -0.2932629 ,  0.13459378,  0.3903528 , -0.4234693 , -0.17909372,\n",
       "         -0.32330668, -0.37959665,  0.32911414, -0.17190835, -0.2772439 ],\n",
       "        [-0.04898524,  0.03595451, -0.01398301,  0.39010453, -0.3933804 ,\n",
       "          0.29240447,  0.27491605, -0.3567541 ,  0.37215477, -0.34435654,\n",
       "          0.23714232, -0.3972703 ,  0.39470136,  0.183676  , -0.39688927],\n",
       "        [-0.0199964 , -0.19672547,  0.1713537 , -0.1457308 , -0.04190916,\n",
       "         -0.15838283, -0.41090986,  0.06660298,  0.20310068,  0.36458433,\n",
       "          0.01931965, -0.39173478,  0.22359443, -0.03532714,  0.3737828 ],\n",
       "        [-0.4187651 , -0.13762996, -0.13217315,  0.25180334,  0.4200701 ,\n",
       "          0.05829462,  0.38080096, -0.27580976, -0.14572835, -0.01623696,\n",
       "          0.15117925,  0.3601675 ,  0.14649326, -0.38714647,  0.37706965],\n",
       "        [ 0.14097351,  0.07456738, -0.20233741,  0.10070354, -0.31619066,\n",
       "         -0.2576303 , -0.22946095, -0.38153422, -0.28370607, -0.08225352,\n",
       "          0.40135437,  0.32811987, -0.28250027, -0.0934523 ,  0.24284315],\n",
       "        [-0.28422374, -0.08405039,  0.26201516,  0.2534371 , -0.01477343,\n",
       "          0.08561063, -0.23978025, -0.09626001, -0.26203924, -0.03511417,\n",
       "          0.08905256, -0.22335859,  0.21586132,  0.2041331 ,  0.34719342]],\n",
       "       dtype=float32),\n",
       " array([0., 0., 0., 0., 0., 0., 0., 0., 0., 0., 0., 0., 0., 0., 0.],\n",
       "       dtype=float32),\n",
       " array([[ 0.1704239 , -0.29983482, -0.02460712, -0.48237258, -0.178047  ,\n",
       "         -0.4871516 , -0.1123516 , -0.2799426 ,  0.28587922, -0.16208047],\n",
       "        [-0.33516297, -0.4011415 , -0.37220025,  0.38760707,  0.33633283,\n",
       "         -0.2629782 ,  0.2224181 ,  0.1602275 , -0.12299216,  0.4391947 ],\n",
       "        [-0.08656269,  0.05887976,  0.16116849,  0.06209478,  0.06507859,\n",
       "          0.0468587 ,  0.31896237, -0.40794945, -0.26006147,  0.08490434],\n",
       "        [-0.21078345, -0.12978142,  0.04144534,  0.17618546,  0.36200586,\n",
       "          0.1541017 , -0.36812577, -0.09142065, -0.33828843,  0.15129063],\n",
       "        [-0.09777826, -0.40439954, -0.20176047,  0.05024031,  0.29984835,\n",
       "         -0.12213728,  0.07886234,  0.26299503, -0.3347953 ,  0.30621132],\n",
       "        [ 0.12226191,  0.46866718,  0.2918627 ,  0.43597803,  0.2602645 ,\n",
       "          0.37500337, -0.09299806, -0.01917496, -0.01805273, -0.27619857],\n",
       "        [-0.2968864 , -0.09017605, -0.2538082 ,  0.16787997,  0.03618512,\n",
       "          0.46960053, -0.18160325,  0.08281383, -0.09709111, -0.12270504],\n",
       "        [ 0.38527212,  0.1499137 ,  0.07689705, -0.2500012 ,  0.24433121,\n",
       "         -0.33751392, -0.37863153, -0.07005817, -0.40795273,  0.21428618],\n",
       "        [ 0.25847974,  0.26460633, -0.28275365, -0.2545842 , -0.48217905,\n",
       "          0.27598622, -0.23412937,  0.38578418,  0.04527655, -0.24662215],\n",
       "        [-0.17807353, -0.3256352 ,  0.17079517,  0.26108637,  0.47273734,\n",
       "         -0.34831357,  0.45689353,  0.01580492, -0.12762481,  0.12495801],\n",
       "        [ 0.15031406,  0.14559522,  0.3785396 ,  0.17997643, -0.22263604,\n",
       "         -0.08522591, -0.26620704, -0.24645978,  0.24999943, -0.18240869],\n",
       "        [ 0.30894515, -0.41226748,  0.25674376, -0.3452953 , -0.42883822,\n",
       "          0.3671706 ,  0.02821252, -0.01456577,  0.38538882,  0.1774902 ],\n",
       "        [ 0.33378252,  0.124962  ,  0.07823291, -0.44888207,  0.18005869,\n",
       "         -0.03220922,  0.26483044,  0.16244534, -0.20165315,  0.28434882],\n",
       "        [-0.19116688,  0.01235673,  0.01736876,  0.1657454 ,  0.0998629 ,\n",
       "          0.37124917,  0.26585546, -0.41499022, -0.4514956 , -0.42843783],\n",
       "        [-0.44661787, -0.18244886,  0.3361096 , -0.1993851 ,  0.48651972,\n",
       "          0.32923332, -0.28084767, -0.4701272 ,  0.18559411, -0.17128822]],\n",
       "       dtype=float32),\n",
       " array([0., 0., 0., 0., 0., 0., 0., 0., 0., 0.], dtype=float32),\n",
       " array([[-0.14288649, -0.43415448,  0.1632939 , -0.28331882, -0.16416818,\n",
       "         -0.24988708],\n",
       "        [ 0.342611  , -0.5908144 , -0.27810878, -0.17175263,  0.11163849,\n",
       "          0.27195513],\n",
       "        [-0.43980294,  0.3422352 ,  0.4082964 , -0.13446718,  0.27230775,\n",
       "          0.4742064 ],\n",
       "        [ 0.12568438,  0.0210647 , -0.06195217, -0.16996512, -0.5463275 ,\n",
       "         -0.53914845],\n",
       "        [ 0.490097  , -0.09970933, -0.09414345,  0.14654452, -0.10009944,\n",
       "         -0.15507874],\n",
       "        [ 0.5018969 ,  0.41900283,  0.6038895 , -0.15706652,  0.13443899,\n",
       "         -0.30283302],\n",
       "        [-0.3241226 ,  0.02451825,  0.02515262,  0.454127  ,  0.5490094 ,\n",
       "          0.09228432],\n",
       "        [-0.0536955 ,  0.31517303, -0.11420137,  0.49724752,  0.6118801 ,\n",
       "         -0.22324309],\n",
       "        [-0.01407623,  0.4349442 ,  0.3166806 ,  0.40976983,  0.24626029,\n",
       "          0.52213806],\n",
       "        [ 0.02983576, -0.12893054,  0.14391786,  0.56571656, -0.19143984,\n",
       "          0.59391886]], dtype=float32),\n",
       " array([0., 0., 0., 0., 0., 0.], dtype=float32),\n",
       " array([[ 0.1242522 ],\n",
       "        [ 0.8318032 ],\n",
       "        [-0.7734594 ],\n",
       "        [-0.42890772],\n",
       "        [ 0.28000867],\n",
       "        [-0.62657213]], dtype=float32),\n",
       " array([0.], dtype=float32)]"
      ]
     },
     "execution_count": 30,
     "metadata": {},
     "output_type": "execute_result"
    }
   ],
   "source": [
    "model = Sequential()\n",
    "model.add(Dense(units =18, activation='relu',kernel_initializer = 'glorot_uniform',input_shape = (12,)))\n",
    "model.add(Dropout(rate = 0.1))\n",
    "model.add(Dense(units = 15, activation='relu',kernel_initializer = 'glorot_uniform'))\n",
    "model.add(Dropout(rate = 0.1))\n",
    "model.add(Dense(units = 10, activation='relu',kernel_initializer = 'glorot_uniform'))\n",
    "model.add(Dropout(rate = 0.1))\n",
    "model.add(Dense(units = 6, activation='relu',kernel_initializer = 'glorot_uniform'))\n",
    "model.add(Dropout(rate = 0.1))\n",
    "model.add(Dense(1, activation = 'sigmoid'))\n",
    "model.summary()\n",
    "model.output_shape\n",
    "model.get_config()\n",
    "model.get_weights()"
   ]
  },
  {
   "cell_type": "code",
   "execution_count": 31,
   "id": "5eebc6bc",
   "metadata": {},
   "outputs": [],
   "source": [
    "from tensorflow.keras.losses import BinaryCrossentropy\n",
    "\n",
    "\n",
    "model.compile(loss='binary_crossentropy', metrics=['accuracy'], optimizer = 'adam')"
   ]
  },
  {
   "cell_type": "code",
   "execution_count": 32,
   "id": "137f7e36",
   "metadata": {},
   "outputs": [
    {
     "name": "stdout",
     "output_type": "stream",
     "text": [
      "Epoch 1/200\n",
      "8/8 [==============================] - 1s 3ms/step - loss: 0.6583 - accuracy: 0.6318\n",
      "Epoch 2/200\n",
      "8/8 [==============================] - 0s 3ms/step - loss: 0.6394 - accuracy: 0.6736\n",
      "Epoch 3/200\n",
      "8/8 [==============================] - 0s 3ms/step - loss: 0.6274 - accuracy: 0.6987\n",
      "Epoch 4/200\n",
      "8/8 [==============================] - 0s 3ms/step - loss: 0.6096 - accuracy: 0.7113\n",
      "Epoch 5/200\n",
      "8/8 [==============================] - 0s 4ms/step - loss: 0.6065 - accuracy: 0.6946\n",
      "Epoch 6/200\n",
      "8/8 [==============================] - 0s 4ms/step - loss: 0.5828 - accuracy: 0.7029\n",
      "Epoch 7/200\n",
      "8/8 [==============================] - 0s 3ms/step - loss: 0.5932 - accuracy: 0.6987\n",
      "Epoch 8/200\n",
      "8/8 [==============================] - 0s 4ms/step - loss: 0.5659 - accuracy: 0.7029\n",
      "Epoch 9/200\n",
      "8/8 [==============================] - 0s 3ms/step - loss: 0.5677 - accuracy: 0.7071\n",
      "Epoch 10/200\n",
      "8/8 [==============================] - 0s 2ms/step - loss: 0.5598 - accuracy: 0.6946\n",
      "Epoch 11/200\n",
      "8/8 [==============================] - 0s 3ms/step - loss: 0.5502 - accuracy: 0.6987\n",
      "Epoch 12/200\n",
      "8/8 [==============================] - 0s 4ms/step - loss: 0.5330 - accuracy: 0.7071\n",
      "Epoch 13/200\n",
      "8/8 [==============================] - 0s 3ms/step - loss: 0.5327 - accuracy: 0.7071\n",
      "Epoch 14/200\n",
      "8/8 [==============================] - 0s 3ms/step - loss: 0.5283 - accuracy: 0.7029\n",
      "Epoch 15/200\n",
      "8/8 [==============================] - 0s 4ms/step - loss: 0.5245 - accuracy: 0.6987\n",
      "Epoch 16/200\n",
      "8/8 [==============================] - 0s 4ms/step - loss: 0.5229 - accuracy: 0.6946\n",
      "Epoch 17/200\n",
      "8/8 [==============================] - 0s 3ms/step - loss: 0.5204 - accuracy: 0.6904\n",
      "Epoch 18/200\n",
      "8/8 [==============================] - 0s 5ms/step - loss: 0.4859 - accuracy: 0.7155\n",
      "Epoch 19/200\n",
      "8/8 [==============================] - 0s 4ms/step - loss: 0.4953 - accuracy: 0.7238\n",
      "Epoch 20/200\n",
      "8/8 [==============================] - 0s 4ms/step - loss: 0.4836 - accuracy: 0.6946\n",
      "Epoch 21/200\n",
      "8/8 [==============================] - 0s 4ms/step - loss: 0.4757 - accuracy: 0.7280\n",
      "Epoch 22/200\n",
      "8/8 [==============================] - 0s 4ms/step - loss: 0.4883 - accuracy: 0.7238\n",
      "Epoch 23/200\n",
      "8/8 [==============================] - 0s 4ms/step - loss: 0.4634 - accuracy: 0.7531\n",
      "Epoch 24/200\n",
      "8/8 [==============================] - 0s 3ms/step - loss: 0.4862 - accuracy: 0.7322\n",
      "Epoch 25/200\n",
      "8/8 [==============================] - 0s 4ms/step - loss: 0.4529 - accuracy: 0.7657\n",
      "Epoch 26/200\n",
      "8/8 [==============================] - 0s 3ms/step - loss: 0.4747 - accuracy: 0.7699\n",
      "Epoch 27/200\n",
      "8/8 [==============================] - 0s 3ms/step - loss: 0.4457 - accuracy: 0.7866\n",
      "Epoch 28/200\n",
      "8/8 [==============================] - 0s 3ms/step - loss: 0.4458 - accuracy: 0.7908\n",
      "Epoch 29/200\n",
      "8/8 [==============================] - 0s 4ms/step - loss: 0.4798 - accuracy: 0.7699\n",
      "Epoch 30/200\n",
      "8/8 [==============================] - 0s 3ms/step - loss: 0.4560 - accuracy: 0.7992\n",
      "Epoch 31/200\n",
      "8/8 [==============================] - 0s 4ms/step - loss: 0.4528 - accuracy: 0.7741\n",
      "Epoch 32/200\n",
      "8/8 [==============================] - 0s 4ms/step - loss: 0.4267 - accuracy: 0.8159\n",
      "Epoch 33/200\n",
      "8/8 [==============================] - 0s 3ms/step - loss: 0.4509 - accuracy: 0.7824\n",
      "Epoch 34/200\n",
      "8/8 [==============================] - 0s 4ms/step - loss: 0.4222 - accuracy: 0.7992\n",
      "Epoch 35/200\n",
      "8/8 [==============================] - 0s 4ms/step - loss: 0.4291 - accuracy: 0.8201\n",
      "Epoch 36/200\n",
      "8/8 [==============================] - 0s 4ms/step - loss: 0.4057 - accuracy: 0.8494\n",
      "Epoch 37/200\n",
      "8/8 [==============================] - 0s 4ms/step - loss: 0.4479 - accuracy: 0.7866\n",
      "Epoch 38/200\n",
      "8/8 [==============================] - 0s 3ms/step - loss: 0.4288 - accuracy: 0.7908\n",
      "Epoch 39/200\n",
      "8/8 [==============================] - 0s 3ms/step - loss: 0.4104 - accuracy: 0.8243\n",
      "Epoch 40/200\n",
      "8/8 [==============================] - 0s 3ms/step - loss: 0.4197 - accuracy: 0.8033\n",
      "Epoch 41/200\n",
      "8/8 [==============================] - 0s 3ms/step - loss: 0.4033 - accuracy: 0.8410\n",
      "Epoch 42/200\n",
      "8/8 [==============================] - 0s 3ms/step - loss: 0.3817 - accuracy: 0.8285\n",
      "Epoch 43/200\n",
      "8/8 [==============================] - 0s 3ms/step - loss: 0.3948 - accuracy: 0.8494\n",
      "Epoch 44/200\n",
      "8/8 [==============================] - 0s 3ms/step - loss: 0.3950 - accuracy: 0.7992\n",
      "Epoch 45/200\n",
      "8/8 [==============================] - 0s 4ms/step - loss: 0.3784 - accuracy: 0.8201\n",
      "Epoch 46/200\n",
      "8/8 [==============================] - 0s 4ms/step - loss: 0.4140 - accuracy: 0.8201\n",
      "Epoch 47/200\n",
      "8/8 [==============================] - 0s 4ms/step - loss: 0.3691 - accuracy: 0.8368\n",
      "Epoch 48/200\n",
      "8/8 [==============================] - 0s 4ms/step - loss: 0.3879 - accuracy: 0.8452\n",
      "Epoch 49/200\n",
      "8/8 [==============================] - 0s 3ms/step - loss: 0.3620 - accuracy: 0.8577\n",
      "Epoch 50/200\n",
      "8/8 [==============================] - 0s 3ms/step - loss: 0.3795 - accuracy: 0.8452\n",
      "Epoch 51/200\n",
      "8/8 [==============================] - 0s 4ms/step - loss: 0.3802 - accuracy: 0.8494\n",
      "Epoch 52/200\n",
      "8/8 [==============================] - 0s 3ms/step - loss: 0.3898 - accuracy: 0.8452\n",
      "Epoch 53/200\n",
      "8/8 [==============================] - 0s 3ms/step - loss: 0.3734 - accuracy: 0.8536\n",
      "Epoch 54/200\n",
      "8/8 [==============================] - 0s 3ms/step - loss: 0.3622 - accuracy: 0.8243\n",
      "Epoch 55/200\n",
      "8/8 [==============================] - 0s 4ms/step - loss: 0.3765 - accuracy: 0.8452\n",
      "Epoch 56/200\n",
      "8/8 [==============================] - 0s 4ms/step - loss: 0.3567 - accuracy: 0.8452\n",
      "Epoch 57/200\n",
      "8/8 [==============================] - 0s 3ms/step - loss: 0.3442 - accuracy: 0.8494\n",
      "Epoch 58/200\n",
      "8/8 [==============================] - 0s 3ms/step - loss: 0.3395 - accuracy: 0.8577\n",
      "Epoch 59/200\n",
      "8/8 [==============================] - 0s 3ms/step - loss: 0.3148 - accuracy: 0.8703\n",
      "Epoch 60/200\n",
      "8/8 [==============================] - 0s 3ms/step - loss: 0.3185 - accuracy: 0.8870\n",
      "Epoch 61/200\n",
      "8/8 [==============================] - 0s 3ms/step - loss: 0.3454 - accuracy: 0.8787\n",
      "Epoch 62/200\n",
      "8/8 [==============================] - 0s 3ms/step - loss: 0.3267 - accuracy: 0.8661\n",
      "Epoch 63/200\n",
      "8/8 [==============================] - 0s 3ms/step - loss: 0.3208 - accuracy: 0.8619\n",
      "Epoch 64/200\n",
      "8/8 [==============================] - 0s 2ms/step - loss: 0.3497 - accuracy: 0.8494\n",
      "Epoch 65/200\n",
      "8/8 [==============================] - 0s 3ms/step - loss: 0.3321 - accuracy: 0.8787\n",
      "Epoch 66/200\n",
      "8/8 [==============================] - 0s 3ms/step - loss: 0.3231 - accuracy: 0.8745\n",
      "Epoch 67/200\n",
      "8/8 [==============================] - 0s 3ms/step - loss: 0.3588 - accuracy: 0.8494\n",
      "Epoch 68/200\n",
      "8/8 [==============================] - 0s 3ms/step - loss: 0.3262 - accuracy: 0.8745\n",
      "Epoch 69/200\n",
      "8/8 [==============================] - 0s 3ms/step - loss: 0.2973 - accuracy: 0.8577\n",
      "Epoch 70/200\n",
      "8/8 [==============================] - 0s 3ms/step - loss: 0.3212 - accuracy: 0.8703\n",
      "Epoch 71/200\n",
      "8/8 [==============================] - 0s 3ms/step - loss: 0.3323 - accuracy: 0.8703\n",
      "Epoch 72/200\n",
      "8/8 [==============================] - 0s 3ms/step - loss: 0.3410 - accuracy: 0.8661\n",
      "Epoch 73/200\n",
      "8/8 [==============================] - 0s 3ms/step - loss: 0.2937 - accuracy: 0.8828\n",
      "Epoch 74/200\n",
      "8/8 [==============================] - 0s 3ms/step - loss: 0.3449 - accuracy: 0.8494\n",
      "Epoch 75/200\n",
      "8/8 [==============================] - 0s 3ms/step - loss: 0.2984 - accuracy: 0.8703\n",
      "Epoch 76/200\n",
      "8/8 [==============================] - 0s 3ms/step - loss: 0.3199 - accuracy: 0.8661\n",
      "Epoch 77/200\n",
      "8/8 [==============================] - 0s 3ms/step - loss: 0.3403 - accuracy: 0.8703\n",
      "Epoch 78/200\n",
      "8/8 [==============================] - 0s 3ms/step - loss: 0.3182 - accuracy: 0.8787\n",
      "Epoch 79/200\n",
      "8/8 [==============================] - 0s 3ms/step - loss: 0.2866 - accuracy: 0.8745\n",
      "Epoch 80/200\n",
      "8/8 [==============================] - 0s 4ms/step - loss: 0.3059 - accuracy: 0.8787\n",
      "Epoch 81/200\n",
      "8/8 [==============================] - 0s 3ms/step - loss: 0.2868 - accuracy: 0.8954\n",
      "Epoch 82/200\n",
      "8/8 [==============================] - 0s 3ms/step - loss: 0.2806 - accuracy: 0.9163\n",
      "Epoch 83/200\n",
      "8/8 [==============================] - 0s 4ms/step - loss: 0.3033 - accuracy: 0.8703\n",
      "Epoch 84/200\n"
     ]
    },
    {
     "name": "stdout",
     "output_type": "stream",
     "text": [
      "8/8 [==============================] - 0s 3ms/step - loss: 0.2875 - accuracy: 0.8661\n",
      "Epoch 85/200\n",
      "8/8 [==============================] - 0s 3ms/step - loss: 0.3055 - accuracy: 0.8912\n",
      "Epoch 86/200\n",
      "8/8 [==============================] - 0s 3ms/step - loss: 0.2881 - accuracy: 0.8870\n",
      "Epoch 87/200\n",
      "8/8 [==============================] - 0s 3ms/step - loss: 0.3127 - accuracy: 0.8745\n",
      "Epoch 88/200\n",
      "8/8 [==============================] - 0s 3ms/step - loss: 0.2737 - accuracy: 0.8996\n",
      "Epoch 89/200\n",
      "8/8 [==============================] - 0s 3ms/step - loss: 0.2937 - accuracy: 0.8787\n",
      "Epoch 90/200\n",
      "8/8 [==============================] - 0s 3ms/step - loss: 0.2861 - accuracy: 0.8912\n",
      "Epoch 91/200\n",
      "8/8 [==============================] - 0s 3ms/step - loss: 0.2984 - accuracy: 0.8787\n",
      "Epoch 92/200\n",
      "8/8 [==============================] - 0s 3ms/step - loss: 0.2748 - accuracy: 0.8703\n",
      "Epoch 93/200\n",
      "8/8 [==============================] - 0s 3ms/step - loss: 0.2897 - accuracy: 0.8912\n",
      "Epoch 94/200\n",
      "8/8 [==============================] - 0s 3ms/step - loss: 0.2781 - accuracy: 0.8912\n",
      "Epoch 95/200\n",
      "8/8 [==============================] - 0s 3ms/step - loss: 0.2609 - accuracy: 0.8996\n",
      "Epoch 96/200\n",
      "8/8 [==============================] - 0s 3ms/step - loss: 0.2849 - accuracy: 0.8912\n",
      "Epoch 97/200\n",
      "8/8 [==============================] - 0s 3ms/step - loss: 0.2722 - accuracy: 0.8870\n",
      "Epoch 98/200\n",
      "8/8 [==============================] - 0s 3ms/step - loss: 0.2944 - accuracy: 0.8703\n",
      "Epoch 99/200\n",
      "8/8 [==============================] - 0s 3ms/step - loss: 0.2981 - accuracy: 0.8703\n",
      "Epoch 100/200\n",
      "8/8 [==============================] - 0s 3ms/step - loss: 0.2979 - accuracy: 0.8828\n",
      "Epoch 101/200\n",
      "8/8 [==============================] - 0s 3ms/step - loss: 0.3125 - accuracy: 0.8787\n",
      "Epoch 102/200\n",
      "8/8 [==============================] - 0s 3ms/step - loss: 0.3054 - accuracy: 0.8787\n",
      "Epoch 103/200\n",
      "8/8 [==============================] - 0s 3ms/step - loss: 0.2788 - accuracy: 0.8954\n",
      "Epoch 104/200\n",
      "8/8 [==============================] - 0s 3ms/step - loss: 0.2985 - accuracy: 0.8996\n",
      "Epoch 105/200\n",
      "8/8 [==============================] - 0s 3ms/step - loss: 0.3180 - accuracy: 0.8577\n",
      "Epoch 106/200\n",
      "8/8 [==============================] - 0s 3ms/step - loss: 0.2740 - accuracy: 0.8787\n",
      "Epoch 107/200\n",
      "8/8 [==============================] - 0s 3ms/step - loss: 0.2667 - accuracy: 0.8996\n",
      "Epoch 108/200\n",
      "8/8 [==============================] - 0s 3ms/step - loss: 0.2458 - accuracy: 0.9121\n",
      "Epoch 109/200\n",
      "8/8 [==============================] - 0s 3ms/step - loss: 0.3046 - accuracy: 0.8912\n",
      "Epoch 110/200\n",
      "8/8 [==============================] - 0s 3ms/step - loss: 0.2594 - accuracy: 0.9079\n",
      "Epoch 111/200\n",
      "8/8 [==============================] - 0s 3ms/step - loss: 0.2607 - accuracy: 0.8996\n",
      "Epoch 112/200\n",
      "8/8 [==============================] - 0s 3ms/step - loss: 0.2993 - accuracy: 0.8745\n",
      "Epoch 113/200\n",
      "8/8 [==============================] - 0s 3ms/step - loss: 0.2409 - accuracy: 0.8954\n",
      "Epoch 114/200\n",
      "8/8 [==============================] - 0s 3ms/step - loss: 0.2630 - accuracy: 0.9079\n",
      "Epoch 115/200\n",
      "8/8 [==============================] - 0s 3ms/step - loss: 0.2561 - accuracy: 0.8912\n",
      "Epoch 116/200\n",
      "8/8 [==============================] - 0s 3ms/step - loss: 0.2797 - accuracy: 0.8703\n",
      "Epoch 117/200\n",
      "8/8 [==============================] - 0s 4ms/step - loss: 0.2525 - accuracy: 0.9121\n",
      "Epoch 118/200\n",
      "8/8 [==============================] - 0s 3ms/step - loss: 0.2573 - accuracy: 0.9038\n",
      "Epoch 119/200\n",
      "8/8 [==============================] - 0s 3ms/step - loss: 0.2619 - accuracy: 0.8912\n",
      "Epoch 120/200\n",
      "8/8 [==============================] - 0s 3ms/step - loss: 0.2263 - accuracy: 0.9205\n",
      "Epoch 121/200\n",
      "8/8 [==============================] - 0s 4ms/step - loss: 0.2694 - accuracy: 0.8954\n",
      "Epoch 122/200\n",
      "8/8 [==============================] - 0s 3ms/step - loss: 0.3039 - accuracy: 0.8828\n",
      "Epoch 123/200\n",
      "8/8 [==============================] - 0s 3ms/step - loss: 0.2504 - accuracy: 0.9205\n",
      "Epoch 124/200\n",
      "8/8 [==============================] - 0s 3ms/step - loss: 0.2321 - accuracy: 0.9038\n",
      "Epoch 125/200\n",
      "8/8 [==============================] - 0s 3ms/step - loss: 0.2332 - accuracy: 0.9038\n",
      "Epoch 126/200\n",
      "8/8 [==============================] - 0s 3ms/step - loss: 0.2455 - accuracy: 0.9038\n",
      "Epoch 127/200\n",
      "8/8 [==============================] - 0s 3ms/step - loss: 0.2564 - accuracy: 0.8954\n",
      "Epoch 128/200\n",
      "8/8 [==============================] - 0s 3ms/step - loss: 0.2647 - accuracy: 0.8954\n",
      "Epoch 129/200\n",
      "8/8 [==============================] - 0s 3ms/step - loss: 0.2366 - accuracy: 0.9038\n",
      "Epoch 130/200\n",
      "8/8 [==============================] - 0s 3ms/step - loss: 0.2616 - accuracy: 0.9038\n",
      "Epoch 131/200\n",
      "8/8 [==============================] - 0s 3ms/step - loss: 0.2448 - accuracy: 0.9121\n",
      "Epoch 132/200\n",
      "8/8 [==============================] - 0s 3ms/step - loss: 0.2427 - accuracy: 0.8954\n",
      "Epoch 133/200\n",
      "8/8 [==============================] - 0s 3ms/step - loss: 0.2414 - accuracy: 0.9079\n",
      "Epoch 134/200\n",
      "8/8 [==============================] - 0s 3ms/step - loss: 0.2314 - accuracy: 0.9121\n",
      "Epoch 135/200\n",
      "8/8 [==============================] - 0s 3ms/step - loss: 0.2548 - accuracy: 0.8954\n",
      "Epoch 136/200\n",
      "8/8 [==============================] - 0s 3ms/step - loss: 0.2143 - accuracy: 0.9205\n",
      "Epoch 137/200\n",
      "8/8 [==============================] - 0s 3ms/step - loss: 0.2670 - accuracy: 0.8996\n",
      "Epoch 138/200\n",
      "8/8 [==============================] - 0s 3ms/step - loss: 0.2498 - accuracy: 0.9121\n",
      "Epoch 139/200\n",
      "8/8 [==============================] - 0s 3ms/step - loss: 0.2381 - accuracy: 0.9079\n",
      "Epoch 140/200\n",
      "8/8 [==============================] - 0s 3ms/step - loss: 0.2640 - accuracy: 0.9038\n",
      "Epoch 141/200\n",
      "8/8 [==============================] - 0s 3ms/step - loss: 0.2351 - accuracy: 0.8996\n",
      "Epoch 142/200\n",
      "8/8 [==============================] - 0s 3ms/step - loss: 0.2006 - accuracy: 0.9121\n",
      "Epoch 143/200\n",
      "8/8 [==============================] - 0s 3ms/step - loss: 0.1844 - accuracy: 0.9247\n",
      "Epoch 144/200\n",
      "8/8 [==============================] - 0s 3ms/step - loss: 0.2263 - accuracy: 0.9121\n",
      "Epoch 145/200\n",
      "8/8 [==============================] - 0s 3ms/step - loss: 0.1948 - accuracy: 0.9121\n",
      "Epoch 146/200\n",
      "8/8 [==============================] - 0s 3ms/step - loss: 0.2222 - accuracy: 0.8912\n",
      "Epoch 147/200\n",
      "8/8 [==============================] - 0s 3ms/step - loss: 0.2267 - accuracy: 0.8996\n",
      "Epoch 148/200\n",
      "8/8 [==============================] - 0s 3ms/step - loss: 0.2219 - accuracy: 0.9079\n",
      "Epoch 149/200\n",
      "8/8 [==============================] - 0s 5ms/step - loss: 0.2530 - accuracy: 0.9079\n",
      "Epoch 150/200\n",
      "8/8 [==============================] - 0s 3ms/step - loss: 0.2551 - accuracy: 0.9038\n",
      "Epoch 151/200\n",
      "8/8 [==============================] - 0s 3ms/step - loss: 0.2235 - accuracy: 0.9247\n",
      "Epoch 152/200\n",
      "8/8 [==============================] - 0s 3ms/step - loss: 0.2568 - accuracy: 0.9038\n",
      "Epoch 153/200\n",
      "8/8 [==============================] - 0s 3ms/step - loss: 0.2452 - accuracy: 0.8996\n",
      "Epoch 154/200\n",
      "8/8 [==============================] - 0s 3ms/step - loss: 0.2216 - accuracy: 0.9079\n",
      "Epoch 155/200\n",
      "8/8 [==============================] - 0s 3ms/step - loss: 0.2499 - accuracy: 0.9163\n",
      "Epoch 156/200\n",
      "8/8 [==============================] - 0s 4ms/step - loss: 0.2448 - accuracy: 0.8912\n",
      "Epoch 157/200\n",
      "8/8 [==============================] - 0s 3ms/step - loss: 0.2226 - accuracy: 0.8954\n",
      "Epoch 158/200\n",
      "8/8 [==============================] - 0s 3ms/step - loss: 0.2021 - accuracy: 0.9331\n",
      "Epoch 159/200\n",
      "8/8 [==============================] - 0s 2ms/step - loss: 0.1968 - accuracy: 0.9205\n",
      "Epoch 160/200\n",
      "8/8 [==============================] - 0s 3ms/step - loss: 0.2620 - accuracy: 0.9121\n",
      "Epoch 161/200\n",
      "8/8 [==============================] - 0s 3ms/step - loss: 0.2103 - accuracy: 0.9331\n",
      "Epoch 162/200\n",
      "8/8 [==============================] - 0s 3ms/step - loss: 0.2250 - accuracy: 0.9121\n",
      "Epoch 163/200\n",
      "8/8 [==============================] - 0s 3ms/step - loss: 0.2721 - accuracy: 0.8912\n",
      "Epoch 164/200\n",
      "8/8 [==============================] - 0s 3ms/step - loss: 0.2054 - accuracy: 0.9163\n",
      "Epoch 165/200\n",
      "8/8 [==============================] - 0s 3ms/step - loss: 0.2467 - accuracy: 0.9038\n",
      "Epoch 166/200\n",
      "8/8 [==============================] - 0s 3ms/step - loss: 0.2402 - accuracy: 0.9079\n",
      "Epoch 167/200\n"
     ]
    },
    {
     "name": "stdout",
     "output_type": "stream",
     "text": [
      "8/8 [==============================] - 0s 3ms/step - loss: 0.2287 - accuracy: 0.9038\n",
      "Epoch 168/200\n",
      "8/8 [==============================] - 0s 3ms/step - loss: 0.2021 - accuracy: 0.9372\n",
      "Epoch 169/200\n",
      "8/8 [==============================] - 0s 3ms/step - loss: 0.2101 - accuracy: 0.9205\n",
      "Epoch 170/200\n",
      "8/8 [==============================] - 0s 3ms/step - loss: 0.1935 - accuracy: 0.9247\n",
      "Epoch 171/200\n",
      "8/8 [==============================] - 0s 3ms/step - loss: 0.2138 - accuracy: 0.9163\n",
      "Epoch 172/200\n",
      "8/8 [==============================] - 0s 3ms/step - loss: 0.1754 - accuracy: 0.9289\n",
      "Epoch 173/200\n",
      "8/8 [==============================] - 0s 3ms/step - loss: 0.2190 - accuracy: 0.9121\n",
      "Epoch 174/200\n",
      "8/8 [==============================] - 0s 3ms/step - loss: 0.2374 - accuracy: 0.8996\n",
      "Epoch 175/200\n",
      "8/8 [==============================] - 0s 3ms/step - loss: 0.2375 - accuracy: 0.9121\n",
      "Epoch 176/200\n",
      "8/8 [==============================] - 0s 3ms/step - loss: 0.2010 - accuracy: 0.9289\n",
      "Epoch 177/200\n",
      "8/8 [==============================] - 0s 3ms/step - loss: 0.2532 - accuracy: 0.8912\n",
      "Epoch 178/200\n",
      "8/8 [==============================] - 0s 3ms/step - loss: 0.1659 - accuracy: 0.9331\n",
      "Epoch 179/200\n",
      "8/8 [==============================] - 0s 3ms/step - loss: 0.1781 - accuracy: 0.9163\n",
      "Epoch 180/200\n",
      "8/8 [==============================] - 0s 3ms/step - loss: 0.2083 - accuracy: 0.9163\n",
      "Epoch 181/200\n",
      "8/8 [==============================] - 0s 3ms/step - loss: 0.2207 - accuracy: 0.9079\n",
      "Epoch 182/200\n",
      "8/8 [==============================] - 0s 3ms/step - loss: 0.2018 - accuracy: 0.9205\n",
      "Epoch 183/200\n",
      "8/8 [==============================] - 0s 3ms/step - loss: 0.1767 - accuracy: 0.9205\n",
      "Epoch 184/200\n",
      "8/8 [==============================] - 0s 3ms/step - loss: 0.2056 - accuracy: 0.9038\n",
      "Epoch 185/200\n",
      "8/8 [==============================] - 0s 3ms/step - loss: 0.2139 - accuracy: 0.9205\n",
      "Epoch 186/200\n",
      "8/8 [==============================] - 0s 3ms/step - loss: 0.1983 - accuracy: 0.9205\n",
      "Epoch 187/200\n",
      "8/8 [==============================] - 0s 3ms/step - loss: 0.1762 - accuracy: 0.9414\n",
      "Epoch 188/200\n",
      "8/8 [==============================] - 0s 3ms/step - loss: 0.1666 - accuracy: 0.9331\n",
      "Epoch 189/200\n",
      "8/8 [==============================] - 0s 3ms/step - loss: 0.2406 - accuracy: 0.9121\n",
      "Epoch 190/200\n",
      "8/8 [==============================] - 0s 4ms/step - loss: 0.2306 - accuracy: 0.9163\n",
      "Epoch 191/200\n",
      "8/8 [==============================] - 0s 3ms/step - loss: 0.2115 - accuracy: 0.9079\n",
      "Epoch 192/200\n",
      "8/8 [==============================] - 0s 3ms/step - loss: 0.1887 - accuracy: 0.9121\n",
      "Epoch 193/200\n",
      "8/8 [==============================] - 0s 3ms/step - loss: 0.1873 - accuracy: 0.9372\n",
      "Epoch 194/200\n",
      "8/8 [==============================] - 0s 4ms/step - loss: 0.2366 - accuracy: 0.9121\n",
      "Epoch 195/200\n",
      "8/8 [==============================] - 0s 3ms/step - loss: 0.1690 - accuracy: 0.9289\n",
      "Epoch 196/200\n",
      "8/8 [==============================] - 0s 3ms/step - loss: 0.1870 - accuracy: 0.9331\n",
      "Epoch 197/200\n",
      "8/8 [==============================] - 0s 3ms/step - loss: 0.1993 - accuracy: 0.9163\n",
      "Epoch 198/200\n",
      "8/8 [==============================] - 0s 3ms/step - loss: 0.1976 - accuracy: 0.9456\n",
      "Epoch 199/200\n",
      "8/8 [==============================] - 0s 3ms/step - loss: 0.2164 - accuracy: 0.9205\n",
      "Epoch 200/200\n",
      "8/8 [==============================] - 0s 3ms/step - loss: 0.1883 - accuracy: 0.9205\n"
     ]
    },
    {
     "data": {
      "text/plain": [
       "<keras.callbacks.History at 0x1b9a52027f0>"
      ]
     },
     "execution_count": 32,
     "metadata": {},
     "output_type": "execute_result"
    }
   ],
   "source": [
    "model.fit(X_train, y_train, batch_size=32, epochs=200)\n"
   ]
  },
  {
   "cell_type": "code",
   "execution_count": 33,
   "id": "554d053f",
   "metadata": {},
   "outputs": [],
   "source": [
    "y_pred = model.predict(X_train)"
   ]
  },
  {
   "cell_type": "code",
   "execution_count": 34,
   "id": "f46d4cd7",
   "metadata": {},
   "outputs": [
    {
     "data": {
      "text/plain": [
       "array([[2.62313962e-01],\n",
       "       [5.86792827e-03],\n",
       "       [5.17277002e-01],\n",
       "       [4.08041160e-05],\n",
       "       [2.09574991e-05],\n",
       "       [9.94750371e-05],\n",
       "       [1.73096657e-02],\n",
       "       [5.39757311e-02],\n",
       "       [6.46698356e-01],\n",
       "       [7.91217089e-01],\n",
       "       [2.37749845e-01],\n",
       "       [3.77892554e-02],\n",
       "       [1.78690553e-02],\n",
       "       [9.86976027e-01],\n",
       "       [9.81601536e-01],\n",
       "       [1.25467777e-03],\n",
       "       [9.95777249e-01],\n",
       "       [2.11743593e-01],\n",
       "       [3.07614803e-02],\n",
       "       [2.70556569e-01],\n",
       "       [1.55484676e-03],\n",
       "       [4.60115075e-03],\n",
       "       [2.21337041e-06],\n",
       "       [9.39406157e-02],\n",
       "       [2.12073326e-04],\n",
       "       [8.44576955e-03],\n",
       "       [2.91898549e-02],\n",
       "       [7.36266375e-03],\n",
       "       [1.30112767e-02],\n",
       "       [4.09393724e-05],\n",
       "       [6.40349090e-02],\n",
       "       [7.18603015e-01],\n",
       "       [2.39223540e-02],\n",
       "       [3.29273462e-05],\n",
       "       [2.97183724e-05],\n",
       "       [3.39687467e-02],\n",
       "       [3.56433690e-02],\n",
       "       [9.94482875e-01],\n",
       "       [9.76514101e-01],\n",
       "       [8.47295284e-01],\n",
       "       [2.75645554e-02],\n",
       "       [7.35825815e-05],\n",
       "       [9.88176584e-01],\n",
       "       [7.05352426e-03],\n",
       "       [4.03188467e-02],\n",
       "       [1.49427354e-02],\n",
       "       [3.02925706e-03],\n",
       "       [1.18706615e-04],\n",
       "       [3.67850065e-04],\n",
       "       [9.76301968e-01],\n",
       "       [1.57501101e-02],\n",
       "       [2.33560801e-04],\n",
       "       [2.95946002e-01],\n",
       "       [2.12617517e-02],\n",
       "       [1.80367202e-01],\n",
       "       [9.97548461e-01],\n",
       "       [9.98376906e-01],\n",
       "       [1.01530552e-03],\n",
       "       [3.52400124e-01],\n",
       "       [8.99564922e-01],\n",
       "       [9.98832822e-01],\n",
       "       [5.14379144e-03],\n",
       "       [9.53382432e-01],\n",
       "       [1.28866971e-01],\n",
       "       [9.11631227e-01],\n",
       "       [9.33412313e-02],\n",
       "       [7.71473497e-05],\n",
       "       [9.79036093e-04],\n",
       "       [1.01470947e-03],\n",
       "       [9.99857426e-01],\n",
       "       [2.12967664e-01],\n",
       "       [1.25408173e-04],\n",
       "       [9.49315429e-01],\n",
       "       [9.48354006e-01],\n",
       "       [6.78917170e-01],\n",
       "       [2.47684121e-03],\n",
       "       [2.59982049e-02],\n",
       "       [7.95075297e-03],\n",
       "       [9.51994538e-01],\n",
       "       [4.11003828e-04],\n",
       "       [8.23965669e-01],\n",
       "       [1.65454507e-01],\n",
       "       [4.22760844e-02],\n",
       "       [7.60396004e-01],\n",
       "       [2.79752612e-02],\n",
       "       [4.25015092e-02],\n",
       "       [9.98734713e-01],\n",
       "       [9.99166012e-01],\n",
       "       [3.70673835e-02],\n",
       "       [1.17473900e-02],\n",
       "       [8.84147584e-02],\n",
       "       [9.99768615e-01],\n",
       "       [2.00613454e-06],\n",
       "       [3.73264253e-02],\n",
       "       [7.14421272e-04],\n",
       "       [3.74081850e-01],\n",
       "       [9.07955229e-01],\n",
       "       [9.93312359e-01],\n",
       "       [6.86407089e-04],\n",
       "       [7.34515786e-02],\n",
       "       [1.22231245e-03],\n",
       "       [2.08248496e-02],\n",
       "       [9.71230268e-01],\n",
       "       [5.46540916e-02],\n",
       "       [9.57345307e-01],\n",
       "       [9.99104679e-01],\n",
       "       [8.00690770e-01],\n",
       "       [1.42555028e-01],\n",
       "       [8.08760107e-01],\n",
       "       [2.11542845e-02],\n",
       "       [7.14814960e-05],\n",
       "       [2.58553922e-02],\n",
       "       [9.91710126e-02],\n",
       "       [6.52257204e-02],\n",
       "       [9.37175512e-01],\n",
       "       [3.25472653e-02],\n",
       "       [3.60604167e-06],\n",
       "       [5.04512191e-02],\n",
       "       [3.42724252e-06],\n",
       "       [1.62452638e-01],\n",
       "       [4.80162799e-02],\n",
       "       [1.37470961e-01],\n",
       "       [2.04831362e-04],\n",
       "       [8.65340233e-04],\n",
       "       [3.05534005e-02],\n",
       "       [1.55277640e-01],\n",
       "       [4.11131978e-03],\n",
       "       [2.93915331e-01],\n",
       "       [2.40620971e-03],\n",
       "       [7.18412280e-01],\n",
       "       [1.48117542e-04],\n",
       "       [7.52806664e-03],\n",
       "       [9.83301282e-01],\n",
       "       [5.60998917e-04],\n",
       "       [4.11677331e-01],\n",
       "       [9.78022337e-01],\n",
       "       [7.77292252e-03],\n",
       "       [3.34632641e-05],\n",
       "       [1.16875470e-02],\n",
       "       [6.80694429e-05],\n",
       "       [2.93719769e-02],\n",
       "       [8.83647263e-01],\n",
       "       [6.64266765e-01],\n",
       "       [9.70383167e-01],\n",
       "       [2.05131471e-02],\n",
       "       [2.71171331e-04],\n",
       "       [1.10777378e-01],\n",
       "       [1.00071788e-01],\n",
       "       [1.98444724e-03],\n",
       "       [8.45708013e-01],\n",
       "       [4.13984060e-03],\n",
       "       [2.05043256e-02],\n",
       "       [2.41357386e-02],\n",
       "       [5.98664939e-01],\n",
       "       [5.63490391e-03],\n",
       "       [9.33241248e-02],\n",
       "       [2.47759759e-01],\n",
       "       [1.39534473e-04],\n",
       "       [2.57983804e-03],\n",
       "       [7.51740456e-01],\n",
       "       [9.08198595e-01],\n",
       "       [4.03573811e-02],\n",
       "       [8.63302648e-01],\n",
       "       [1.19790733e-02],\n",
       "       [3.54930162e-02],\n",
       "       [3.06229353e-01],\n",
       "       [6.97262408e-08],\n",
       "       [2.52202949e-06],\n",
       "       [9.78682339e-02],\n",
       "       [3.49928141e-02],\n",
       "       [1.47530288e-01],\n",
       "       [9.93379474e-01],\n",
       "       [4.57020700e-02],\n",
       "       [9.90618110e-01],\n",
       "       [8.87011409e-01],\n",
       "       [1.04933888e-01],\n",
       "       [9.86661077e-01],\n",
       "       [1.43025219e-02],\n",
       "       [8.69133174e-02],\n",
       "       [2.07147896e-02],\n",
       "       [9.98455405e-01],\n",
       "       [9.58539367e-01],\n",
       "       [1.20785262e-05],\n",
       "       [4.75138426e-04],\n",
       "       [3.99045646e-02],\n",
       "       [9.82368469e-01],\n",
       "       [9.68811870e-01],\n",
       "       [1.65745914e-02],\n",
       "       [2.53210068e-02],\n",
       "       [9.24440861e-01],\n",
       "       [9.93867159e-01],\n",
       "       [6.90288507e-05],\n",
       "       [2.89694667e-01],\n",
       "       [1.52856112e-04],\n",
       "       [9.54370499e-01],\n",
       "       [9.13509667e-01],\n",
       "       [2.39015062e-05],\n",
       "       [6.68436289e-03],\n",
       "       [9.06313896e-01],\n",
       "       [9.62556481e-01],\n",
       "       [9.18179274e-01],\n",
       "       [5.10743157e-05],\n",
       "       [2.28593647e-02],\n",
       "       [1.12119596e-06],\n",
       "       [9.68639255e-01],\n",
       "       [9.73290563e-01],\n",
       "       [4.50952053e-02],\n",
       "       [1.64780378e-01],\n",
       "       [1.36711869e-05],\n",
       "       [2.96354294e-04],\n",
       "       [4.37101722e-03],\n",
       "       [8.93102988e-05],\n",
       "       [8.77887011e-04],\n",
       "       [1.49003923e-01],\n",
       "       [2.94963121e-02],\n",
       "       [1.37892365e-03],\n",
       "       [3.65181267e-02],\n",
       "       [1.01458878e-04],\n",
       "       [7.16758490e-01],\n",
       "       [9.93727505e-01],\n",
       "       [9.94714856e-01],\n",
       "       [5.71358204e-03],\n",
       "       [2.18549371e-03],\n",
       "       [4.67416644e-03],\n",
       "       [9.16933656e-01],\n",
       "       [3.70116830e-02],\n",
       "       [1.89554691e-03],\n",
       "       [8.48135352e-03],\n",
       "       [2.26855278e-04],\n",
       "       [4.76044552e-05],\n",
       "       [5.25832176e-04],\n",
       "       [1.67731216e-08],\n",
       "       [9.96580720e-01],\n",
       "       [3.45159709e-01],\n",
       "       [1.24195218e-03],\n",
       "       [1.71640515e-03],\n",
       "       [4.60634559e-01],\n",
       "       [9.28817749e-01],\n",
       "       [8.69567157e-06]], dtype=float32)"
      ]
     },
     "execution_count": 34,
     "metadata": {},
     "output_type": "execute_result"
    }
   ],
   "source": [
    "y_pred"
   ]
  },
  {
   "cell_type": "code",
   "execution_count": 35,
   "id": "c85317c0",
   "metadata": {},
   "outputs": [],
   "source": [
    "y_pred = y_pred>0.5"
   ]
  },
  {
   "cell_type": "code",
   "execution_count": null,
   "id": "c919c6c8",
   "metadata": {},
   "outputs": [],
   "source": []
  },
  {
   "cell_type": "code",
   "execution_count": 36,
   "id": "0a77807b",
   "metadata": {},
   "outputs": [],
   "source": [
    "import seaborn as sns\n",
    "from sklearn.metrics import confusion_matrix,classification_report,accuracy_score\n"
   ]
  },
  {
   "cell_type": "code",
   "execution_count": 37,
   "id": "6b094282",
   "metadata": {},
   "outputs": [
    {
     "data": {
      "text/plain": [
       "0.9539748953974896"
      ]
     },
     "execution_count": 37,
     "metadata": {},
     "output_type": "execute_result"
    }
   ],
   "source": [
    "acc_score = accuracy_score(y_train,y_pred)\n",
    "acc_score"
   ]
  },
  {
   "cell_type": "code",
   "execution_count": 38,
   "id": "751a167d",
   "metadata": {},
   "outputs": [],
   "source": [
    "clf = classification_report(y_train,y_pred)"
   ]
  },
  {
   "cell_type": "code",
   "execution_count": 39,
   "id": "a435ea3c",
   "metadata": {},
   "outputs": [
    {
     "name": "stdout",
     "output_type": "stream",
     "text": [
      "              precision    recall  f1-score   support\n",
      "\n",
      "           0       0.96      0.98      0.97       166\n",
      "           1       0.94      0.90      0.92        73\n",
      "\n",
      "    accuracy                           0.95       239\n",
      "   macro avg       0.95      0.94      0.95       239\n",
      "weighted avg       0.95      0.95      0.95       239\n",
      "\n"
     ]
    }
   ],
   "source": [
    "print(clf)"
   ]
  },
  {
   "cell_type": "code",
   "execution_count": 40,
   "id": "f0bcbfa3",
   "metadata": {},
   "outputs": [
    {
     "data": {
      "text/plain": [
       "array([[162,   4],\n",
       "       [  7,  66]], dtype=int64)"
      ]
     },
     "execution_count": 40,
     "metadata": {},
     "output_type": "execute_result"
    }
   ],
   "source": [
    "cm = confusion_matrix(y_train,y_pred)\n",
    "cm"
   ]
  },
  {
   "cell_type": "code",
   "execution_count": 41,
   "id": "4d3c75b1",
   "metadata": {},
   "outputs": [
    {
     "data": {
      "text/plain": [
       "<AxesSubplot:>"
      ]
     },
     "execution_count": 41,
     "metadata": {},
     "output_type": "execute_result"
    },
    {
     "data": {
      "image/png": "[encoded data removed]",
      "text/plain": [
       "<Figure size 432x288 with 2 Axes>"
      ]
     },
     "metadata": {
      "needs_background": "light"
     },
     "output_type": "display_data"
    }
   ],
   "source": [
    "sns.heatmap(cm,annot= True,cmap = 'Blues',fmt='1')"
   ]
  },
  {
   "cell_type": "code",
   "execution_count": null,
   "id": "ba527a6d",
   "metadata": {},
   "outputs": [],
   "source": []
  }
 ],
 "metadata": {
  "kernelspec": {
   "display_name": "Python 3",
   "language": "python",
   "name": "python3"
  },
  "language_info": {
   "codemirror_mode": {
    "name": "ipython",
    "version": 3
   },
   "file_extension": ".py",
   "mimetype": "text/x-python",
   "name": "python",
   "nbconvert_exporter": "python",
   "pygments_lexer": "ipython3",
   "version": "3.8.8"
  }
 },
 "nbformat": 4,
 "nbformat_minor": 5
}
